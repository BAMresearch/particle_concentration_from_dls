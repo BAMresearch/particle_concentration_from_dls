{
 "cells": [
  {
   "cell_type": "code",
   "execution_count": 1,
   "id": "99dc2a4f-80bd-4998-8f36-a31d4ced415a",
   "metadata": {},
   "outputs": [],
   "source": [
    "pathToluene = \"20210511/092 2021 Toluol\"\n",
    "pathBuffer = \"20210511/093 2021 Wasser\"\n",
    "pathSample = \"20210511/094 2021 PS-Standard 1zu1000\"\n",
    "refracParticle = 1.492"
   ]
  },
  {
   "cell_type": "markdown",
   "id": "e82e7d8e-5baf-477e-a853-67b53075657b",
   "metadata": {},
   "source": [
    "### Helpers"
   ]
  },
  {
   "cell_type": "code",
   "execution_count": 2,
   "id": "c89e6a3a-fa61-4091-a884-2c31aef411cb",
   "metadata": {},
   "outputs": [],
   "source": [
    "# from NB 'Monitor Diode Analysis over Time'\n",
    "import os\n",
    "def findASC(inPath, pattern):\n",
    "    for (dirpath, dirnames, filenames) in os.walk(inPath):\n",
    "        if pattern not in os.path.basename(dirpath).lower():\n",
    "            continue # skip dir if pattern not in its name\n",
    "        #print(dirpath)\n",
    "        ascfiles = [fn for fn in filenames if fn.endswith('.ASC') and '_averaged.' not in fn]\n",
    "        #print(ascfiles)\n",
    "        for fn in ascfiles:\n",
    "            yield os.path.join(dirpath, fn)\n",
    "\n",
    "from dateutil.parser import parse\n",
    "def getMonitorDiode(filename):\n",
    "    print('.', end=\"\") # some progress output\n",
    "    #print(\"getMonitorDiode\", filename)\n",
    "    try:\n",
    "        with open(filename, encoding='cp1250') as fd:\n",
    "            lines = fd.readlines()\n",
    "            value = [line for line in lines if line.startswith('Monitor Diode')]\n",
    "            value = float(value[0].split()[-1])\n",
    "            datestr = [line for line in lines if line.startswith('Date')]\n",
    "            datestr = datestr[0].split()[-1].strip('\"')\n",
    "            timestr = [line for line in lines if line.startswith('Time')]\n",
    "            timestr = timestr[0].split()[-1].strip('\"')\n",
    "            ts = parse(datestr+' '+timestr)\n",
    "            #print(datestr, timestr, ts)\n",
    "            return value, ts\n",
    "    except Exception as e:\n",
    "        #print(e) # for debugging\n",
    "        pass\n",
    "    return -1., None"
   ]
  },
  {
   "cell_type": "code",
   "execution_count": 3,
   "id": "3619eb69-ef26-4b16-a1f1-f60c31ba49ba",
   "metadata": {},
   "outputs": [],
   "source": [
    "# from 'Analyse DLS with CONTIN'\n",
    "import matplotlib.pyplot as plt\n",
    "def initFigure(fig, width = 80, aspectRatio = 4./3., quiet=False):\n",
    "    mmInch = 25.4\n",
    "    fig.set_size_inches(width/mmInch, width/aspectRatio/mmInch)\n",
    "    w, h = fig.get_size_inches()\n",
    "    if not quiet:\n",
    "        print(\"initFigure() with ({w:.1f}x{h:.1f}) mm\"\n",
    "              .format(w = w*mmInch, h = h*mmInch))\n",
    "    return fig\n",
    "    \n",
    "def createFigure(width = 80, aspectRatio = 4./3., quiet=False, **kwargs):\n",
    "    \"\"\"output figure width in mm\"\"\"\n",
    "    fig = plt.figure(\n",
    "        #tight_layout = dict(pad = 0.05),\n",
    "        **kwargs\n",
    "    )\n",
    "    initFigure(fig, width, aspectRatio, quiet)\n",
    "    return fig"
   ]
  },
  {
   "cell_type": "code",
   "execution_count": 4,
   "id": "a3a9f280-c664-4946-b698-c7870d81295d",
   "metadata": {},
   "outputs": [],
   "source": [
    "# from '2020-07-31 DLS concentration vs. count rate'\n",
    "from dateutil.parser import parse\n",
    "import pandas as pd\n",
    "\n",
    "def parseValue(val):\n",
    "        val = val.strip('\" ')\n",
    "        try:\n",
    "            val = float(val)\n",
    "        except ValueError:\n",
    "            pass\n",
    "        return val\n",
    "def getDLSFileMeta(filenameOrBuffer):\n",
    "        # read the measurement settings (temperature, viscosity, refractive index and wavelength)\n",
    "        # only for 'ALV-7004 CGS-8F Data' data files\n",
    "        meta = pd.read_csv(filenameOrBuffer, r'\\s*:\\s+', skiprows=1, nrows=36, encoding='cp1250',\n",
    "                           names=['name', 'value'], index_col='name', engine='python')\n",
    "        meta = {key: parseValue(value)\n",
    "                for (key, value) in meta.to_dict()['value'].items()}\n",
    "        return meta\n",
    "\n",
    "def getDLSFileData(filename, showProgress=False):\n",
    "    if showProgress:\n",
    "        print('.', end=\"\") # some progress output\n",
    "    data = dict(filename=os.path.basename(filename))\n",
    "    header = getDLSFileMeta(filename)\n",
    "    data.update(timestamp=parse(header['Date']+' '+header['Time']))\n",
    "    #print(header)\n",
    "    memostr = \"\".join([value for key,value in header.items() if key.startswith(\"SampMemo\")])\n",
    "    # try to get the concentration from the memo field\n",
    "    #print(\"memostr\", memostr)\n",
    "    memofields = [field.strip(' ,;') for field in memostr.split()]\n",
    "    #print(\"memofields\", memofields)\n",
    "    try:\n",
    "        concentration = [float(field.split(':')[1]) for field in memofields if ':' in field][0]\n",
    "        concentration = 1/float(concentration)\n",
    "    except (IndexError, ValueError):\n",
    "        concentration = 1\n",
    "    data.update(concentration=concentration)\n",
    "    angles = [value for key,value in header.items() if key.startswith(\"Angle\")]\n",
    "    data.update(angles=angles)\n",
    "    for name in \"Temperature\", \"Viscosity\", \"Refractive Index\", \"Wavelength\":\n",
    "        for key,value in header.items():\n",
    "            if key.startswith(name):\n",
    "                data[key] = value\n",
    "    with open(filename, encoding='cp1250') as fd:\n",
    "        lines = fd.readlines()\n",
    "        #[print(ln.strip()) for ln in lines[17:25]]\n",
    "        value = [line for line in lines if line.startswith('Monitor Diode')]\n",
    "        value = float(value[0].split()[-1])\n",
    "        data.update(monitorDiode=value)\n",
    "        #print(\"data\", data)\n",
    "        crstart = int([idx for idx, ln in enumerate(lines) if 'Count Rate' in ln][0])+1\n",
    "        crend   = int([idx for idx, ln in enumerate(lines) if 'Monitor Diode' in ln][0])-1\n",
    "    # read tabular data after file was closed by leaving scope of 'with'\n",
    "    cr = pd.read_csv(filename, skiprows=crstart, nrows=crend-crstart, sep=r'\\s+', names=angles)\n",
    "    data.update(countrate=cr)\n",
    "    return data\n",
    "\n",
    "def dfSortByColumn(df, colname):\n",
    "    # sort the DataFrame by the given column via index\n",
    "    df.set_index(colname, inplace=True)\n",
    "    df.sort_index(inplace=True)\n",
    "    # resetting the index to the default one (just numbered)\n",
    "    df.reset_index(inplace=True)\n",
    "    \n",
    "def processDLSMeasurements(files, monitorDiodeRef=0):\n",
    "    \"\"\"Treat a set of files as measurement of the same sample,\n",
    "       at different scattering angles and with repetitions, possibly.\n",
    "       Returns count rate averages and std. deviations for each angle.\"\"\"\n",
    "    if isinstance(files, str):\n",
    "        files = (files,)\n",
    "    # gather all relevant data from files in a directory\n",
    "    dirData = [getDLSFileData(fn) for fn in files]\n",
    "    if not len(dirData):\n",
    "        return\n",
    "    #print(dirData)\n",
    "    # create a DataFrame from that\n",
    "    df = pd.DataFrame({key: [fileData[key] for fileData in dirData]\n",
    "                       for key in dirData[0].keys() if key not in (\"countrate\", \"angles\")})\n",
    "    monitorDiodeScale = monitorDiodeRef / df.monitorDiode.mean() if monitorDiodeRef != 0 else 1\n",
    "    name = '+'.join(list(set([Path(fn).parent.name for fn in files])))\n",
    "    summary = dict(name=name, timestamp=df.timestamp[0],\n",
    "                   monitorDiode=df.monitorDiode.mean(),\n",
    "                   monitorDiodeScale=monitorDiodeScale,\n",
    "                   concentration=df.concentration[0])\n",
    "    for name in (\"Temperature\", \"Viscosity\", \"Refractive Index\", \"Wavelength\"):\n",
    "        for colname in df.columns:\n",
    "           if colname.startswith(name):\n",
    "               summary[colname] = df[colname].mean()\n",
    "    print(\"Monitor diode reference: {:.0f}, this mon. diode: {:7.0f}, scale: {:.6f} ({})\"\n",
    "          .format(monitorDiodeRef, summary['monitorDiode'], monitorDiodeScale, summary['name']))\n",
    "    # all sets of angles found in files in this directory, a set can have unique entries only\n",
    "    dirAngles = set([tuple(fileData['angles']) for fileData in dirData])\n",
    "    countRates = []\n",
    "    for angles in dirAngles:\n",
    "        # concatenate countrates (time series) of the same angles only (for averaging over time later)\n",
    "        countRates.append(pd.concat([fileData['countrate']\n",
    "                                     for fileData in dirData\n",
    "                                     if tuple(fileData['angles']) == angles]))\n",
    "    # count rate mean over all measurements (must be at same angles!)\n",
    "    countrate = pd.concat(countRates, axis=1)*monitorDiodeScale\n",
    "    print(\"Measurement angles:\", sorted(countrate.columns.astype(int)))\n",
    "    countrate.sort_index(axis=1, inplace=True)\n",
    "    def seriesToDict(series, lbl):\n",
    "        return {\"{}{:.0f}\".format(lbl, key): value for key, value in zip(series.index, series.values)}\n",
    "    summary.update(seriesToDict(countrate.mean(), 'crmean'))\n",
    "    summary.update(seriesToDict(countrate.std(), 'crstd'))\n",
    "    return summary\n",
    "\n",
    "def crAtAngle(summaryDict, degrees):\n",
    "    return (summaryDict.get(f'crmean{degrees:.0f}', -1.),\n",
    "            summaryDict.get(f'crstd{degrees:.0f}', -1.))\n",
    "\n",
    "def crMean(summaryDict):\n",
    "     return np.array([crAtAngle(summaryDict, theta)[0] for theta in getAngles(summaryDict)])\n",
    "\n",
    "def getAngles(summaryDict):\n",
    "    prefix = 'crmean'\n",
    "    return sorted([int(key[len(prefix):]) for key in summaryDict.keys() if key.startswith(prefix)])"
   ]
  },
  {
   "cell_type": "code",
   "execution_count": 5,
   "id": "5345b626-daa1-406b-900b-ad0c32aadbfa",
   "metadata": {},
   "outputs": [
    {
     "name": "stdout",
     "output_type": "stream",
     "text": [
      "20210511/092 2021 Toluol/092 2021 Toluol0000_0001.ASC\n",
      "20210511/092 2021 Toluol/092 2021 Toluol0001_0001.ASC\n",
      "20210511/092 2021 Toluol/092 2021 Toluol0000_0003.ASC\n",
      "20210511/092 2021 Toluol/092 2021 Toluol0001_0003.ASC\n",
      "20210511/092 2021 Toluol/092 2021 Toluol0001_0002.ASC\n",
      "20210511/092 2021 Toluol/092 2021 Toluol0000_0002.ASC\n",
      "Monitor diode reference: 0, this mon. diode: 1567735, scale: 1.000000 (092 2021 Toluol)\n",
      "Measurement angles: [26, 34, 42, 50, 58, 66, 74, 82, 90, 98, 106, 114, 122, 130, 138, 146]\n"
     ]
    },
    {
     "data": {
      "text/plain": [
       "({'name': '092 2021 Toluol',\n",
       "  'timestamp': Timestamp('2021-11-05 09:21:57'),\n",
       "  'monitorDiode': 1567735.241666667,\n",
       "  'monitorDiodeScale': 1,\n",
       "  'concentration': 1,\n",
       "  'Temperature [K]': 292.9479483333334,\n",
       "  'Viscosity [cp]': 1.0067233333333334,\n",
       "  'Refractive Index': 1.332,\n",
       "  'Wavelength [nm]': 632.8000000000001,\n",
       "  'crmean26': 43.76568994750656,\n",
       "  'crmean34': 35.300256509186354,\n",
       "  'crmean42': 29.42009682414698,\n",
       "  'crmean50': 25.725738097112863,\n",
       "  'crmean58': 24.02480984251968,\n",
       "  'crmean66': 22.379991102362208,\n",
       "  'crmean74': 18.575696404199476,\n",
       "  'crmean82': 18.047641417322836,\n",
       "  'crmean90': 18.456571299212598,\n",
       "  'crmean98': 18.74653250656168,\n",
       "  'crmean106': 22.270167165354326,\n",
       "  'crmean114': 23.55174526246719,\n",
       "  'crmean122': 24.25662440944882,\n",
       "  'crmean130': 27.075581076115483,\n",
       "  'crmean138': 32.21495543307087,\n",
       "  'crmean146': 38.579473792650916,\n",
       "  'crstd26': 0.6281944349500644,\n",
       "  'crstd34': 0.5600758180648094,\n",
       "  'crstd42': 0.4971762560560979,\n",
       "  'crstd50': 0.4729210986748227,\n",
       "  'crstd58': 0.44968321941754813,\n",
       "  'crstd66': 0.4477018665294139,\n",
       "  'crstd74': 0.4104922649674307,\n",
       "  'crstd82': 0.39913420271898187,\n",
       "  'crstd90': 0.412522606495603,\n",
       "  'crstd98': 0.3927843402006366,\n",
       "  'crstd106': 0.44709644117079655,\n",
       "  'crstd114': 0.46028007005162064,\n",
       "  'crstd122': 0.46433252357711324,\n",
       "  'crstd130': 0.49258142808951805,\n",
       "  'crstd138': 0.5362830371552713,\n",
       "  'crstd146': 0.5822975887195195},\n",
       " array([43.76568995, 35.30025651, 29.42009682, 25.7257381 , 24.02480984,\n",
       "        22.3799911 , 18.5756964 , 18.04764142, 18.4565713 , 18.74653251,\n",
       "        22.27016717, 23.55174526, 24.25662441, 27.07558108, 32.21495543,\n",
       "        38.57947379]))"
      ]
     },
     "execution_count": 5,
     "metadata": {},
     "output_type": "execute_result"
    }
   ],
   "source": [
    "import numpy as np\n",
    "from pathlib import Path\n",
    "files = list(findASC(Path(pathToluene), ''))\n",
    "[print(fn) for fn in files]\n",
    "tolueneData = processDLSMeasurements(files)\n",
    "crTol_mean = crMean(tolueneData)\n",
    "tolueneData, crTol_mean"
   ]
  },
  {
   "cell_type": "code",
   "execution_count": 6,
   "id": "321b407e-b576-4363-bcdd-506ca9487867",
   "metadata": {},
   "outputs": [
    {
     "name": "stdout",
     "output_type": "stream",
     "text": [
      "20210511/093 2021 Wasser/093 2021 Wasser0001_0001.ASC\n",
      "20210511/093 2021 Wasser/093 2021 Wasser0000_0001.ASC\n",
      "20210511/093 2021 Wasser/093 2021 Wasser0001_0003.ASC\n",
      "20210511/093 2021 Wasser/093 2021 Wasser0000_0003.ASC\n",
      "20210511/093 2021 Wasser/093 2021 Wasser0000_0002.ASC\n",
      "20210511/093 2021 Wasser/093 2021 Wasser0001_0002.ASC\n",
      "Monitor diode reference: 1567735, this mon. diode: 1563499, scale: 1.002709 (093 2021 Wasser)\n",
      "Measurement angles: [26, 34, 42, 50, 58, 66, 74, 82, 90, 98, 106, 114, 122, 130, 138, 146]\n"
     ]
    },
    {
     "data": {
      "text/plain": [
       "({'name': '093 2021 Wasser',\n",
       "  'timestamp': Timestamp('2021-11-05 09:37:16'),\n",
       "  'monitorDiode': 1563499.4000000001,\n",
       "  'monitorDiodeScale': 1.00270920581528,\n",
       "  'concentration': 1,\n",
       "  'Temperature [K]': 292.958765,\n",
       "  'Viscosity [cp]': 1.0066016666666668,\n",
       "  'Refractive Index': 1.332,\n",
       "  'Wavelength [nm]': 632.8000000000001,\n",
       "  'crmean26': 1.137993350177964,\n",
       "  'crmean34': 1.4736662712223125,\n",
       "  'crmean42': 2.1126336461367243,\n",
       "  'crmean50': 1.8571613418886073,\n",
       "  'crmean58': 2.1322631000032124,\n",
       "  'crmean66': 2.059952265063872,\n",
       "  'crmean74': 1.557851012247477,\n",
       "  'crmean82': 4.540278442690203,\n",
       "  'crmean90': 1.7510574302599746,\n",
       "  'crmean98': 2.230746092694812,\n",
       "  'crmean106': 2.4274767177518273,\n",
       "  'crmean114': 2.3922360421514783,\n",
       "  'crmean122': 2.406635235843082,\n",
       "  'crmean130': 2.7153727558365395,\n",
       "  'crmean138': 3.3789636028189376,\n",
       "  'crmean146': 4.065864820212763,\n",
       "  'crstd26': 0.10690094354946669,\n",
       "  'crstd34': 0.11420645165819406,\n",
       "  'crstd42': 0.8200136192754032,\n",
       "  'crstd50': 0.1463872760327078,\n",
       "  'crstd58': 0.1589949781783243,\n",
       "  'crstd66': 0.12556425259972345,\n",
       "  'crstd74': 0.13325958335703025,\n",
       "  'crstd82': 3.905066420191989,\n",
       "  'crstd90': 0.12807602676032737,\n",
       "  'crstd98': 0.5834344650802881,\n",
       "  'crstd106': 0.7347429754530872,\n",
       "  'crstd114': 0.25433477041324193,\n",
       "  'crstd122': 0.14551850984417186,\n",
       "  'crstd130': 0.16128223452755566,\n",
       "  'crstd138': 0.17163358831090927,\n",
       "  'crstd146': 0.18328842345520222},\n",
       " array([1.13799335, 1.47366627, 2.11263365, 1.85716134, 2.1322631 ,\n",
       "        2.05995227, 1.55785101, 4.54027844, 1.75105743, 2.23074609,\n",
       "        2.42747672, 2.39223604, 2.40663524, 2.71537276, 3.3789636 ,\n",
       "        4.06586482]))"
      ]
     },
     "execution_count": 6,
     "metadata": {},
     "output_type": "execute_result"
    }
   ],
   "source": [
    "files = list(findASC(Path(pathBuffer), ''))\n",
    "[print(fn) for fn in files]\n",
    "bufferData = processDLSMeasurements(files, monitorDiodeRef=tolueneData['monitorDiode'])\n",
    "crBuf_mean = crMean(bufferData)\n",
    "bufferData, crBuf_mean"
   ]
  },
  {
   "cell_type": "code",
   "execution_count": 7,
   "id": "23ffc8e4-ea3d-4a66-bc9f-a99547c96c12",
   "metadata": {},
   "outputs": [
    {
     "name": "stdout",
     "output_type": "stream",
     "text": [
      "20210511/094 2021 PS-Standard 1zu1000/094 2021 PS-Standard 1zu10000000_0001.ASC\n",
      "20210511/094 2021 PS-Standard 1zu1000/094 2021 PS-Standard 1zu10000001_0001.ASC\n",
      "20210511/094 2021 PS-Standard 1zu1000/094 2021 PS-Standard 1zu10000001_0002.ASC\n",
      "20210511/094 2021 PS-Standard 1zu1000/094 2021 PS-Standard 1zu10000000_0002.ASC\n",
      "20210511/094 2021 PS-Standard 1zu1000/094 2021 PS-Standard 1zu10000000_0003.ASC\n",
      "20210511/094 2021 PS-Standard 1zu1000/094 2021 PS-Standard 1zu10000001_0003.ASC\n",
      "Monitor diode reference: 1567735, this mon. diode:   21146, scale: 74.138438 (094 2021 PS-Standard 1zu1000)\n",
      "Measurement angles: [26, 34, 42, 50, 58, 66, 74, 82, 90, 98, 106, 114, 122, 130, 138, 146]\n"
     ]
    },
    {
     "data": {
      "text/plain": [
       "({'name': '094 2021 PS-Standard 1zu1000',\n",
       "  'timestamp': Timestamp('2021-11-05 09:53:49'),\n",
       "  'monitorDiode': 21146.051666666666,\n",
       "  'monitorDiodeScale': 74.13843805829474,\n",
       "  'concentration': 0.001,\n",
       "  'Temperature [K]': 292.94768,\n",
       "  'Viscosity [cp]': 1.0067166666666667,\n",
       "  'Refractive Index': 1.332,\n",
       "  'Wavelength [nm]': 632.8000000000001,\n",
       "  'crmean26': 15133.777544051438,\n",
       "  'crmean34': 12006.84455038834,\n",
       "  'crmean42': 10042.491970070512,\n",
       "  'crmean50': 8786.208455768925,\n",
       "  'crmean58': 8036.366376766467,\n",
       "  'crmean66': 7169.260172431157,\n",
       "  'crmean74': 5850.116246833783,\n",
       "  'crmean82': 5536.634960267955,\n",
       "  'crmean90': 5627.621207568462,\n",
       "  'crmean98': 5521.3148377563275,\n",
       "  'crmean106': 6339.459283024175,\n",
       "  'crmean114': 6486.356220004008,\n",
       "  'crmean122': 6513.708692859357,\n",
       "  'crmean130': 7091.0207316456335,\n",
       "  'crmean138': 8427.009168200375,\n",
       "  'crmean146': 9810.531228863412,\n",
       "  'crstd26': 3563.6179464460265,\n",
       "  'crstd34': 2244.0671289783772,\n",
       "  'crstd42': 1470.6357780684464,\n",
       "  'crstd50': 1133.3337193093419,\n",
       "  'crstd58': 885.6776410398866,\n",
       "  'crstd66': 708.9409590660767,\n",
       "  'crstd74': 537.6702085085634,\n",
       "  'crstd82': 497.5793004574013,\n",
       "  'crstd90': 466.3400466689473,\n",
       "  'crstd98': 410.0683452191205,\n",
       "  'crstd106': 440.52584294414174,\n",
       "  'crstd114': 437.29830719869096,\n",
       "  'crstd122': 427.57174124090585,\n",
       "  'crstd130': 438.65059591389115,\n",
       "  'crstd138': 505.9318890110465,\n",
       "  'crstd146': 611.1125409308404},\n",
       " array([15133.77754405, 12006.84455039, 10042.49197007,  8786.20845577,\n",
       "         8036.36637677,  7169.26017243,  5850.11624683,  5536.63496027,\n",
       "         5627.62120757,  5521.31483776,  6339.45928302,  6486.35622   ,\n",
       "         6513.70869286,  7091.02073165,  8427.0091682 ,  9810.53122886]))"
      ]
     },
     "execution_count": 7,
     "metadata": {},
     "output_type": "execute_result"
    }
   ],
   "source": [
    "files = list(findASC(Path(pathSample), ''))\n",
    "[print(fn) for fn in files]\n",
    "particleData = processDLSMeasurements(files, monitorDiodeRef=tolueneData['monitorDiode'])\n",
    "crTot_mean = crMean(particleData)\n",
    "particleData, crTot_mean"
   ]
  },
  {
   "cell_type": "markdown",
   "id": "9dd2a64a-fc85-435c-b930-8eb016418fd0",
   "metadata": {},
   "source": [
    "### Rayleigh ratio\n",
    "*\"The Rayleigh ratio of toluene is known from the literature and is equal to 1.35·10e−5·cm−1 at 632.8 nm and 25 °C (Brar and Verma 2011)\"*"
   ]
  },
  {
   "cell_type": "code",
   "execution_count": 8,
   "id": "5f322d1b-b202-46d5-8c4d-ac51a66d44f2",
   "metadata": {},
   "outputs": [
    {
     "data": {
      "text/plain": [
       "array([0.20429063, 0.16207251, 0.13554512, 0.11858874, 0.10846216,\n",
       "       0.0967572 , 0.07895554, 0.07468328, 0.07594925, 0.07450764,\n",
       "       0.08554993, 0.08753351, 0.08790258, 0.09569212, 0.11371901,\n",
       "       0.13238728])"
      ]
     },
     "execution_count": 8,
     "metadata": {},
     "output_type": "execute_result"
    }
   ],
   "source": [
    "rayleighRatio = 1.35e-5 # in 1/cm at wavelength of 632.8 nm and 25 °C\n",
    "(crTot_mean - crBuf_mean) * rayleighRatio"
   ]
  },
  {
   "cell_type": "markdown",
   "id": "daaa083e-b677-4621-bce1-a5e79b9f56d7",
   "metadata": {},
   "source": [
    "## The differential scattering cross section using Mie theory\n",
    "\n",
    "See https://pymiescatt.readthedocs.io/en/latest/forward.html#functions-for-single-particles\n",
    "\n",
    "Refractive Index of\n",
    "- Polypropylene, PP: 1.492 (https://www.osapublishing.org/ao/abstract.cfm?uri=ao-42-3-592)\n",
    "- Polystyrene, PS: 1.593\n",
    "\n",
    "### Using [miepython](https://miepython.readthedocs.io/en/latest/index.html)\n",
    "\n",
    "See also https://miepython.readthedocs.io/en/latest/03_angular_scattering.html#Differential-Scattering-Cross-Section  \n",
    "cites [Wiscombe, W. J. (1979). Mie Scattering Calculations. doi:10.5065/D6ZP4414](https://opensky.ucar.edu/islandora/object/technotes:232)"
   ]
  },
  {
   "cell_type": "code",
   "execution_count": 9,
   "id": "760c5e8b-8d54-40ec-9f48-88fc7615f369",
   "metadata": {},
   "outputs": [],
   "source": [
    "import collections.abc\n",
    "import miepython\n",
    "def diffScatteringCrossSection(radius, angles, wavelen, nMedium, verbose=False):\n",
    "    geometric_cross_section = np.pi * radius**2 * 1e-14 # cm**2\n",
    "    if not isinstance(angles, (collections.Sequence, np.ndarray)):\n",
    "        angles = np.array([angles])\n",
    "    mu = np.cos(np.radians(angles))\n",
    "    m, x = refracParticle/nMedium, np.pi*2*radius/(wavelen/nMedium)\n",
    "    if verbose:\n",
    "        print(wavelen, 2*radius, nMedium, refracParticle/nMedium, x, geometric_cross_section)\n",
    "    qext, qsca, qback, g = miepython.mie(m,x)\n",
    "    return geometric_cross_section * qext * miepython.i_unpolarized(m,x,mu)"
   ]
  },
  {
   "cell_type": "code",
   "execution_count": 10,
   "id": "c8c8fefe-4e9d-43a2-81f7-2125688efdeb",
   "metadata": {},
   "outputs": [
    {
     "name": "stdout",
     "output_type": "stream",
     "text": [
      "632.8000000000001 1700.0 1.332 1.12012012012012 11.241817959527065 2.2698006922186254e-08\n"
     ]
    },
    {
     "name": "stderr",
     "output_type": "stream",
     "text": [
      "<ipython-input-9-1c22239a3ff2>:5: DeprecationWarning: Using or importing the ABCs from 'collections' instead of from 'collections.abc' is deprecated since Python 3.3, and in 3.10 it will stop working\n",
      "  if not isinstance(angles, (collections.Sequence, np.ndarray)):\n"
     ]
    }
   ],
   "source": [
    "import numpy as np\n",
    "radius = 850.\n",
    "wavelen = bufferData[\"Wavelength [nm]\"]\n",
    "nMedium = bufferData[\"Refractive Index\"]\n",
    "angles = getAngles(tolueneData)\n",
    "# angles = np.linspace(0,180,1000)\n",
    "sigma_sca = diffScatteringCrossSection(radius, angles, wavelen, nMedium, verbose=True)"
   ]
  },
  {
   "cell_type": "code",
   "execution_count": 11,
   "id": "e011ae39-4d8a-412b-878d-fe2db7c4dd31",
   "metadata": {},
   "outputs": [
    {
     "data": {
      "image/png": "[encoded data removed]",
      "text/plain": [
       "<Figure size 850.394x386.543 with 4 Axes>"
      ]
     },
     "metadata": {
      "needs_background": "light"
     },
     "output_type": "display_data"
    }
   ],
   "source": [
    "import matplotlib.pyplot as plt\n",
    "createFigure(300, 2.2, quiet=True, tight_layout = {'pad': 0.05});\n",
    "plt.subplot(2,3,1)\n",
    "plt.plot(angles, sigma_sca, '.', color='blue')\n",
    "plt.yscale('log'); plt.grid(True)\n",
    "plt.title(f\"Radius={radius:.0f} nm, Refractive index m={refracParticle:.2f}, $\\lambda$={wavelen:.1f} nm\")\n",
    "plt.xlabel(r\"Scattering Angle $\\Theta$ (degrees)\");\n",
    "plt.ylabel(\"Diff. Scattering Cross Section (cm$^2$/sr)\");\n",
    "\n",
    "plt.subplot(2,3,2)\n",
    "plt.plot(angles, sigma_sca*crTol_mean, '.', color='blue')\n",
    "plt.yscale('log'); plt.grid(True)\n",
    "plt.xlabel(r\"Scattering Angle $\\Theta$ (degrees)\");\n",
    "plt.ylabel(\"Diff. Scattering Cross Section (cm$^2$/sr)$\\;\\cdot\\; I_{tol}$\");\n",
    "\n",
    "plt.subplot(2,3,3)\n",
    "plt.plot(angles, crTol_mean, '.', color='blue')\n",
    "plt.yscale('log'); plt.grid(True)\n",
    "plt.title(\"$I_{tol}$, Intensity of Toluene\")\n",
    "plt.xlabel(r\"Scattering Angle $\\Theta$ (degrees)\");\n",
    "\n",
    "plt.subplot(2,3,4)\n",
    "plt.plot(angles, (crTot_mean - crBuf_mean) * rayleighRatio, '.', color='blue')\n",
    "plt.yscale('log'); plt.grid(True)\n",
    "plt.ylabel(r\"$(I_{tot}-I_{dis}) R_{Tol}$\")\n",
    "plt.xlabel(r\"Scattering Angle $\\Theta$ (degrees)\");"
   ]
  },
  {
   "cell_type": "markdown",
   "id": "bed14505-e854-4ad3-a626-f6efa25ffe75",
   "metadata": {},
   "source": [
    "## Get the intensity distribution\n",
    "\n",
    "**According to Malvern:**  \n",
    "*\"The first order result from a DLS experiment is an intensity distribution of particle sizes. The intensity distribution is naturally weighted according to the scattering intensity of each particle fraction or family. For biological materials or polymers the particle scattering intensity is proportional to the square of the molecular weight.\"*  \n",
    "( https://www.chem.uci.edu/~dmitryf/manuals/Fundamentals/DLS%20terminology.pdf )\n",
    "\n",
    "**Check:**  \n",
    "[The CONTIN algorithm and its application to determine the size distribution of microgel suspensions ](https://doi.org/10.1063/1.4921686)"
   ]
  },
  {
   "cell_type": "markdown",
   "id": "febeb3ba-98e3-47cf-9f84-9057612f45ba",
   "metadata": {},
   "source": [
    "## Run CONTIN"
   ]
  },
  {
   "cell_type": "code",
   "execution_count": 12,
   "id": "29873bd5-3149-428a-83d3-a287c1cd3257",
   "metadata": {},
   "outputs": [],
   "source": [
    "continConfig = dict(\n",
    "    angle=90,\n",
    "    ptRangeSec=(3e-7, 1e0), fitRangeM=(1e-9, 500e-9), gridpts=500,\n",
    "    transformData=True, freeBaseline=True, weighResiduals=False,\n",
    ")"
   ]
  },
  {
   "cell_type": "code",
   "execution_count": 13,
   "id": "d5d7c61d-8b78-4764-86b8-0de3f719d039",
   "metadata": {},
   "outputs": [
    {
     "data": {
      "text/plain": [
       "[26, 34, 42, 50, 58, 66, 74, 82, 90, 98, 106, 114, 122, 130, 138, 146]"
      ]
     },
     "execution_count": 13,
     "metadata": {},
     "output_type": "execute_result"
    }
   ],
   "source": [
    "getAngles(particleData)"
   ]
  },
  {
   "cell_type": "code",
   "execution_count": 14,
   "id": "5bc99faa-8b16-40b5-8804-189e60f89a89",
   "metadata": {},
   "outputs": [
    {
     "data": {
      "text/plain": [
       "['20210511/094 2021 PS-Standard 1zu1000/094 2021 PS-Standard 1zu10000000_0001.ASC',\n",
       " '20210511/094 2021 PS-Standard 1zu1000/094 2021 PS-Standard 1zu10000001_0001.ASC',\n",
       " '20210511/094 2021 PS-Standard 1zu1000/094 2021 PS-Standard 1zu10000001_0002.ASC',\n",
       " '20210511/094 2021 PS-Standard 1zu1000/094 2021 PS-Standard 1zu10000000_0002.ASC',\n",
       " '20210511/094 2021 PS-Standard 1zu1000/094 2021 PS-Standard 1zu10000000_0003.ASC',\n",
       " '20210511/094 2021 PS-Standard 1zu1000/094 2021 PS-Standard 1zu10000001_0003.ASC']"
      ]
     },
     "execution_count": 14,
     "metadata": {},
     "output_type": "execute_result"
    }
   ],
   "source": [
    "files"
   ]
  },
  {
   "cell_type": "code",
   "execution_count": 15,
   "id": "fe66908f-6a04-46cf-b552-eee2916f648d",
   "metadata": {},
   "outputs": [],
   "source": [
    "import analyse_dls_with_contin.contin"
   ]
  },
  {
   "cell_type": "code",
   "execution_count": 16,
   "id": "37712a19-e2d3-428b-b9ed-bacd723ae182",
   "metadata": {},
   "outputs": [
    {
     "name": "stdout",
     "output_type": "stream",
     "text": [
      "\n",
      "CONTIN analysis with 12 threads took 11.8s.\n"
     ]
    },
    {
     "data": {
      "text/plain": [
       "[PosixPath('20210511/094 2021 PS-Standard 1zu1000/contin_090 094 2021 PS-Standard 1zu10000000_0001'),\n",
       " PosixPath('20210511/094 2021 PS-Standard 1zu1000/contin_090 094 2021 PS-Standard 1zu10000000_0002'),\n",
       " PosixPath('20210511/094 2021 PS-Standard 1zu1000/contin_090 094 2021 PS-Standard 1zu10000000_0003')]"
      ]
     },
     "execution_count": 16,
     "metadata": {},
     "output_type": "execute_result"
    }
   ],
   "source": [
    "from analyse_dls_with_contin.contin import processFiles, getContinResults\n",
    "resultDirs = processFiles(files, continConfig, nthreads=None)\n",
    "resultDirs"
   ]
  },
  {
   "cell_type": "code",
   "execution_count": 17,
   "id": "cf48c3eb-bb18-4dc0-bf58-89f83e0be49d",
   "metadata": {},
   "outputs": [
    {
     "data": {
      "text/plain": [
       "{'temp': 292.95,\n",
       " 'angle': 90.0,\n",
       " 'visc': 0.0010065999999999999,\n",
       " 'refrac': 1.332,\n",
       " 'wavelen': 6.328e-07}"
      ]
     },
     "execution_count": 17,
     "metadata": {},
     "output_type": "execute_result"
    },
    {
     "data": {
      "image/png": "[encoded data removed]",
      "text/plain": [
       "<Figure size 432x288 with 1 Axes>"
      ]
     },
     "metadata": {
      "needs_background": "light"
     },
     "output_type": "display_data"
    }
   ],
   "source": [
    "# show first result for testing\n",
    "dn = resultDirs[0]\n",
    "dfDistrib, dfFit, varmap = getContinResults(dn)\n",
    "dfDistrib.plot('radius', 'distrib', yerr='err', ecolor='salmon', grid=True, label=dn.name);\n",
    "plt.xlim(0,1e-7);\n",
    "varmap"
   ]
  },
  {
   "cell_type": "code",
   "execution_count": 19,
   "id": "382c1c9e-1cd5-4418-92e3-be523bae794b",
   "metadata": {},
   "outputs": [],
   "source": [
    "theta = 90.\n",
    "I_tot = crAtAngle(particleData, theta)[0]\n",
    "I_dis = crAtAngle(bufferData, theta)[0]\n",
    "I_tol = crAtAngle(tolueneData, theta)[0]"
   ]
  },
  {
   "cell_type": "code",
   "execution_count": 22,
   "id": "5f226443-3e93-4252-a42c-927b27eb25be",
   "metadata": {},
   "outputs": [
    {
     "data": {
      "image/png": "[encoded data removed]",
      "text/plain": [
       "<Figure size 850.394x425.197 with 3 Axes>"
      ]
     },
     "metadata": {
      "needs_background": "light"
     },
     "output_type": "display_data"
    }
   ],
   "source": [
    "from analyse_dls_with_contin.jupyter_analysis_tools.distrib import area\n",
    "\n",
    "createFigure(300, 2, quiet=True, tight_layout = {'pad': 0.05});\n",
    "plt.subplot(2,2,1); plt.grid()\n",
    "plt.plot(dfDistrib.radius.values,\n",
    "         dfDistrib.distrib.values * (I_tot - I_dis) * rayleighRatio / (I_tol))\n",
    "plt.xlim(0,1e-7)\n",
    "plt.subplot(2,2,2); plt.grid()\n",
    "sigma_sca = np.array([diffScatteringCrossSection(radius, theta, wavelen, nMedium)\n",
    "                      for radius in dfDistrib.radius.values*1e9]).flatten()\n",
    "plt.plot(dfDistrib.radius.values, sigma_sca, label=\"Diff. scattering cross section (cm$^2$/sr)\")\n",
    "plt.legend()\n",
    "plt.subplot(2,1,2); plt.grid()\n",
    "concentration = dfDistrib.distrib.values * (I_tot - I_dis) * rayleighRatio / (I_tol*sigma_sca)\n",
    "plt.plot(dfDistrib.radius.values, concentration,\n",
    "         label=\"concentration in $sr/cm^3$ (?)\\n\"+area(dfDistrib.radius.values, concentration));\n",
    "plt.legend(); plt.xlim(0,1e-7);"
   ]
  }
 ],
 "metadata": {
  "kernelspec": {
   "display_name": "Python 3",
   "language": "python",
   "name": "python3"
  },
  "language_info": {
   "codemirror_mode": {
    "name": "ipython",
    "version": 3
   },
   "file_extension": ".py",
   "mimetype": "text/x-python",
   "name": "python",
   "nbconvert_exporter": "python",
   "pygments_lexer": "ipython3",
   "version": "3.9.4"
  }
 },
 "nbformat": 4,
 "nbformat_minor": 5
}
