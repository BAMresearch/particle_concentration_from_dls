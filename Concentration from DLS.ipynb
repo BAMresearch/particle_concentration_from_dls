{
 "cells": [
  {
   "cell_type": "markdown",
   "id": "5562d24b-deb5-4fae-a0a1-9255f3ffe02a",
   "metadata": {},
   "source": [
    "# [Nanoparticle number concentration measurements by multi-angle dynamic light scattering](https://doi.org/10.1007/s11051-020-04840-8)\n",
    "\n",
    "Implementation following\n",
    "\n",
    "    Austin, J., Minelli, C., Hamilton, D. et al. Nanoparticle number concentration measurements by multi-angle dynamic light scattering. J Nanopart Res 22, 108 (2020). https://doi.org/10.1007/s11051-020-04840-8"
   ]
  },
  {
   "cell_type": "code",
   "execution_count": null,
   "id": "99dc2a4f-80bd-4998-8f36-a31d4ced415a",
   "metadata": {},
   "outputs": [],
   "source": [
    "pathToluene = \"20210511/092 2021 Toluol\"\n",
    "pathBuffer = \"20210511/093 2021 Wasser\"\n",
    "pathSample = \"20210511/094 2021 PS-Standard 1zu1000\"\n",
    "# for Polypropylene, PS\n",
    "refracParticle = 1.593\n",
    "densityParticle = 1.05*1e6 # g/m^3"
   ]
  },
  {
   "cell_type": "markdown",
   "id": "2ddfa087-ad51-43bb-b25b-91251ac11407",
   "metadata": {},
   "source": [
    "### Refractive Index and density of\n",
    "- **Polypropylene (PP)**: 1.492 and 0.91 g/mL  \n",
    "  ( https://www.osapublishing.org/ao/abstract.cfm?uri=ao-42-3-592 )\n",
    "- **Polystyrene (PS)**: 1.593 and 1.05 g/mL"
   ]
  },
  {
   "cell_type": "markdown",
   "id": "e82e7d8e-5baf-477e-a853-67b53075657b",
   "metadata": {},
   "source": [
    "### Helpers"
   ]
  },
  {
   "cell_type": "code",
   "execution_count": null,
   "id": "a3a9f280-c664-4946-b698-c7870d81295d",
   "metadata": {},
   "outputs": [],
   "source": [
    "# derived from '2020-07-31 DLS concentration vs. count rate'\n",
    "import os\n",
    "from pathlib import Path\n",
    "import pandas as pd\n",
    "from analyse_dls_with_contin.dlshelpers import getDLSFileData\n",
    "    \n",
    "def processDLSMeasurements(files, monitorDiodeRef=0, monitorDiodeScale=1):\n",
    "    \"\"\"Treat a set of files as measurement of the same sample,\n",
    "       at different scattering angles and with repetitions, possibly.\n",
    "       Returns count rate averages and std. deviations for each angle.\"\"\"\n",
    "    if isinstance(files, str):\n",
    "        files = (files,)\n",
    "    # gather all relevant data from files in a directory\n",
    "    dirData = [getDLSFileData(fn) for fn in files]\n",
    "    if not len(dirData):\n",
    "        return {}\n",
    "    #print(dirData)\n",
    "    # create a DataFrame from that\n",
    "    columns = set([key for fileData in dirData for key in fileData.keys()\n",
    "                   if key not in (\"correlation\", \"countrate\", \"angles\", \"meancr\", \"sampleName\", \"filename\")])\n",
    "    df = pd.DataFrame({key: [fileData.get(key, None) for fileData in dirData]\n",
    "                       for key in columns})\n",
    "    name = '+'.join(list(set([Path(fn).parent.name for fn in files])))\n",
    "    summary = dict(name=name, timestamp=df.timestamp[0],\n",
    "                   concentration=df.concentration[0])\n",
    "    if \"monitorDiode\" in df.columns:\n",
    "        if monitorDiodeRef != 0:\n",
    "            monitorDiodeScale = monitorDiodeRef / df.monitorDiode.mean()\n",
    "        summary.update(dict(monitorDiode=df.monitorDiode.mean()))\n",
    "        print(\"Monitor diode reference: {:.0f}, this mon. diode: {:7.0f}, scale: {:.6f} ({})\"\n",
    "              .format(monitorDiodeRef, summary['monitorDiode'], monitorDiodeScale, summary['name']))\n",
    "    summary.update(dict(monitorDiodeScale=monitorDiodeScale))\n",
    "    for name in (\"Temperature\", \"Viscosity\", \"Refractive Index\", \"Wavelength\"):\n",
    "        for colname in df.columns:\n",
    "           if colname.startswith(name):\n",
    "               summary[colname] = df[colname].mean()\n",
    "    # all sets of angles found in files in this directory, a set can have unique entries only\n",
    "    dirAngles = set([tuple(fileData['angles']) for fileData in dirData])\n",
    "    countRates, countRateMeans = [], []\n",
    "    for angles in dirAngles:\n",
    "        # concatenate countrates (time series) of the same set of angles only\n",
    "        # averaging count rates over time later\n",
    "        countRates.append(pd.concat([fileData.get('countrate', pd.DataFrame())\n",
    "                                     for fileData in dirData\n",
    "                                     if tuple(fileData['angles']) == angles]))\n",
    "        countRateMeans.append(pd.concat([fileData.get('meancr', pd.DataFrame())\n",
    "                                     for fileData in dirData\n",
    "                                     if tuple(fileData['angles']) == angles]))\n",
    "    # count rate mean over all measurements (must be at same angles!)\n",
    "    countRates = pd.concat(countRates, axis=1)*monitorDiodeScale\n",
    "    countRateMeans = pd.concat(countRateMeans, axis=1)*monitorDiodeScale\n",
    "    countRates.sort_index(axis=1, inplace=True)\n",
    "    countRateMeans.sort_index(axis=1, inplace=True)\n",
    "    def seriesToDict(series, lbl):\n",
    "        return {\"{}{:.0f}\".format(lbl, key): value for key, value in zip(series.index, series.values)}\n",
    "    if not countRates.empty:\n",
    "        summary.update(seriesToDict(countRates.mean(), 'crmean'))\n",
    "        summary.update(seriesToDict(countRates.std(), 'crstd'))\n",
    "    else:\n",
    "        summary.update(seriesToDict(countRateMeans.mean(), 'crmean'))\n",
    "        summary.update(seriesToDict(countRateMeans.std(), 'crstd'))\n",
    "    summary.update(angles=countRateMeans.columns.astype(int).tolist())\n",
    "    print(\"Measurement angles:\", summary['angles'])\n",
    "    return summary\n",
    "\n",
    "def crAtAngle(summaryDict, degrees):\n",
    "    return (summaryDict.get(f'crmean{degrees:.0f}', -1.),\n",
    "            summaryDict.get(f'crstd{degrees:.0f}', -1.))\n",
    "\n",
    "def crMean(summaryDict):\n",
    "     return np.array([crAtAngle(summaryDict, theta)[0] for theta in getAngles(summaryDict)])\n",
    "\n",
    "def getAngles(summaryDict):\n",
    "    return summaryDict.get('angles', []) if summaryDict else []"
   ]
  },
  {
   "cell_type": "code",
   "execution_count": null,
   "id": "7c69416a-e148-433f-8a08-79d05db4861d",
   "metadata": {},
   "outputs": [],
   "source": [
    "from analyse_dls_with_contin.jupyter_analysis_tools.datalocations import getDataDirs, getDataFiles, printFileList"
   ]
  },
  {
   "cell_type": "code",
   "execution_count": null,
   "id": "5345b626-daa1-406b-900b-ad0c32aadbfa",
   "metadata": {},
   "outputs": [],
   "source": [
    "import numpy as np\n",
    "tolueneFiles = getDataFiles(pathToluene, include=\"*.ASC\", exclude=\"_average\")\n",
    "printFileList(tolueneFiles)\n",
    "tolueneData = processDLSMeasurements(tolueneFiles)\n",
    "crTol_mean = crMean(tolueneData)\n",
    "#tolueneData, crTol_mean"
   ]
  },
  {
   "cell_type": "code",
   "execution_count": null,
   "id": "321b407e-b576-4363-bcdd-506ca9487867",
   "metadata": {},
   "outputs": [],
   "source": [
    "bufferFiles = getDataFiles(pathBuffer, include=\"*.ASC\", exclude=\"_average\")\n",
    "printFileList(bufferFiles, numParts=10)\n",
    "bufferData = processDLSMeasurements(bufferFiles, monitorDiodeRef=tolueneData['monitorDiode'])\n",
    "crBuf_mean = crMean(bufferData)\n",
    "#bufferData, crBuf_mean"
   ]
  },
  {
   "cell_type": "code",
   "execution_count": null,
   "id": "23ffc8e4-ea3d-4a66-bc9f-a99547c96c12",
   "metadata": {},
   "outputs": [],
   "source": [
    "if True: # use averaged files?\n",
    "    particleFiles = getDataFiles(pathSample, include=\"*averaged.ASC\")\n",
    "    # Monitor diode reference: 1567735, this mon. diode:   21146, scale: 74.138438 (094 2021 PS-Standard 1zu1000)\n",
    "    particleData = processDLSMeasurements(particleFiles, monitorDiodeScale=74.138438)\n",
    "else:\n",
    "    particleFiles = getDataFiles(pathSample, include=\"*.ASC\", exclude=\"_average\")\n",
    "    particleData = processDLSMeasurements(particleFiles, monitorDiodeRef=tolueneData['monitorDiode'])\n",
    "particleData['density'] = densityParticle\n",
    "printFileList(particleFiles)\n",
    "crTot_mean = crMean(particleData)\n",
    "#particleData, crTot_mean"
   ]
  },
  {
   "cell_type": "markdown",
   "id": "daaa083e-b677-4621-bce1-a5e79b9f56d7",
   "metadata": {},
   "source": [
    "## The differential scattering cross section using [miepython](https://miepython.readthedocs.io/en/latest/index.html)\n",
    "\n",
    "See also https://miepython.readthedocs.io/en/latest/03_angular_scattering.html#Differential-Scattering-Cross-Section  \n",
    "cites [Wiscombe, W. J. (1979). Mie Scattering Calculations. doi:10.5065/D6ZP4414](https://opensky.ucar.edu/islandora/object/technotes:232)"
   ]
  },
  {
   "cell_type": "code",
   "execution_count": null,
   "id": "67202c86-937b-464e-986f-ca04c6ecb6dd",
   "metadata": {},
   "outputs": [],
   "source": [
    "#!pip install miepython # install miepython module"
   ]
  },
  {
   "cell_type": "code",
   "execution_count": null,
   "id": "760c5e8b-8d54-40ec-9f48-88fc7615f369",
   "metadata": {},
   "outputs": [],
   "source": [
    "import miepython\n",
    "from analyse_dls_with_contin.jupyter_analysis_tools.utils import isList\n",
    "def diffScatteringCrossSection(radius, angles, wavelen, nMedium, verbose=False):\n",
    "    geometric_cross_section = np.pi * radius**2 * 1e-14 # cm**2\n",
    "    if not isList(angles):\n",
    "        angles = np.array([angles])\n",
    "    mu = np.cos(np.radians(angles))\n",
    "    m = refracParticle/nMedium\n",
    "    x = np.pi*2*radius/(wavelen/nMedium)\n",
    "    if verbose:\n",
    "        print(wavelen, 2*radius, nMedium, refracParticle/nMedium, x, geometric_cross_section)\n",
    "    qext, qsca, qback, g = miepython.mie(m,x)\n",
    "    return geometric_cross_section * qext * miepython.i_unpolarized(m,x,mu)"
   ]
  },
  {
   "cell_type": "markdown",
   "id": "bed14505-e854-4ad3-a626-f6efa25ffe75",
   "metadata": {},
   "source": [
    "## Get the size distribution\n",
    "\n",
    "**According to Malvern:**  \n",
    "*\"The first order result from a DLS experiment is an intensity distribution of particle sizes. The intensity distribution is naturally weighted according to the scattering intensity of each particle fraction or family. For biological materials or polymers the particle scattering intensity is proportional to the square of the molecular weight.\"*  \n",
    "( https://www.chem.uci.edu/~dmitryf/manuals/Fundamentals/DLS%20terminology.pdf )\n",
    "\n",
    "**Check:**  \n",
    "[The CONTIN algorithm and its application to determine the size distribution of microgel suspensions ](https://doi.org/10.1063/1.4921686)"
   ]
  },
  {
   "cell_type": "markdown",
   "id": "febeb3ba-98e3-47cf-9f84-9057612f45ba",
   "metadata": {},
   "source": [
    "### Run CONTIN"
   ]
  },
  {
   "cell_type": "code",
   "execution_count": null,
   "id": "29873bd5-3149-428a-83d3-a287c1cd3257",
   "metadata": {},
   "outputs": [],
   "source": [
    "sizeRangeM = (1e-9, 200e-9)\n",
    "continConfig = dict(recalc=True,\n",
    "    ptRangeSec=(3e-7, 1e0), fitRangeM=sizeRangeM, gridpts=200,\n",
    "    transformData=True, baselineCoeffs=0, # N_L\n",
    "    # weighs noise level of data points accordinly for photon correlation spectroscopy\n",
    "    # where the variance of Y is proportional to (Y**2+1)/(4*Y**2)\n",
    "    # (from contin.for, line 1430)\n",
    "    weighResiduals=True,\n",
    ")"
   ]
  },
  {
   "cell_type": "code",
   "execution_count": null,
   "id": "d5d7c61d-8b78-4764-86b8-0de3f719d039",
   "metadata": {},
   "outputs": [],
   "source": [
    "from analyse_dls_with_contin.jupyter_analysis_tools.utils import updatedDict\n",
    "continConfigs = [updatedDict(continConfig, 'angle', angle)\n",
    "                 for angle in getAngles(particleData)]\n",
    "#continConfigs"
   ]
  },
  {
   "cell_type": "code",
   "execution_count": null,
   "id": "37712a19-e2d3-428b-b9ed-bacd723ae182",
   "metadata": {},
   "outputs": [],
   "source": [
    "from analyse_dls_with_contin.contin import runContinOverFiles\n",
    "resultDirs = runContinOverFiles(particleFiles, continConfigs, nthreads=None)\n",
    "resultDirs"
   ]
  },
  {
   "cell_type": "markdown",
   "id": "c9f7ce13-4379-4912-a6a6-7a36421a6eee",
   "metadata": {},
   "source": [
    "### Rayleigh ratio\n",
    "*\"The Rayleigh ratio of toluene is known from the literature and is equal to 1.35·10e−5·cm−1 at 632.8 nm and 25 °C (Brar and Verma 2011)\"*"
   ]
  },
  {
   "cell_type": "code",
   "execution_count": null,
   "id": "22f0d3ce-924a-42ff-bd50-1e079bf8b09e",
   "metadata": {},
   "outputs": [],
   "source": [
    "rayleighRatioToluene = 1.35e-5*1e2 # in 1/m at wavelength of 632.8 nm and 25 °C"
   ]
  },
  {
   "cell_type": "code",
   "execution_count": null,
   "id": "9318f88b-1f20-459b-bd6f-b98dddf94f02",
   "metadata": {},
   "outputs": [],
   "source": [
    "import matplotlib.pyplot as plt\n",
    "from analyse_dls_with_contin.jupyter_analysis_tools.plotting import createFigure\n",
    "from analyse_dls_with_contin.jupyter_analysis_tools.distrib import (\n",
    "    integrate, normalizeDistrib, findPeakRanges, findLocalMinima)\n",
    "from analyse_dls_with_contin.contin import getContinResults\n",
    "import numpy as np\n",
    "\n",
    "def getLargestPeak(xarr, yarr):\n",
    "        peakRanges = findPeakRanges(xarr, yarr, tol=1e-6)\n",
    "        # refine the peak ranges containing multiple maxima\n",
    "        peakRanges = findLocalMinima(peakRanges, xarr, yarr)\n",
    "        # For a given list of peaks (by start/end indices) return only those\n",
    "        # whose ratio of amount to uncertainty ratio is always below the given max. ratio\n",
    "        #maxRatio = 1.5\n",
    "        #self.peakRanges = [(istart, iend) for istart, iend in self.peakRanges\n",
    "        #                    if maxRatio > 1/np.median(self.y[istart:iend+1]/self.u[istart:iend+1])]\n",
    "        # Sort the peaks by area and use the largest (last) only, assuming monomodal distributions\n",
    "        def peakRangeArea(peakRange):\n",
    "            return integrate(xarr[peakRange[0]:peakRange[1]+1], yarr[peakRange[0]:peakRange[1]+1])\n",
    "        return sorted(peakRanges, key=peakRangeArea)[-1]\n",
    "\n",
    "def getConcentration(continResultDir, particleData, bufferData, tolueneData, plotRangeX=None, plot=False):\n",
    "    \"\"\"Implements [equation 8 in Austin 2020](https://link.springer.com/content/pdf/10.1007/s11051-020-04840-8.pdf).\"\"\"\n",
    "    dfDistrib, dfFit, varmap = getContinResults(continResultDir)\n",
    "    # normalize distribution first\n",
    "    radii, distrib, distribU = normalizeDistrib(dfDistrib.radius, dfDistrib.distrib, dfDistrib.err)\n",
    "    pstart, pend = getLargestPeak(radii, distrib)\n",
    "    radii, distrib, distribU = radii[pstart:pend+1], distrib[pstart:pend+1], distribU[pstart:pend+1]\n",
    "    theta = varmap['angle']\n",
    "    I_tot, _ = crAtAngle(particleData, theta)\n",
    "    I_dis, _ = crAtAngle(bufferData, theta)\n",
    "    I_tol, _ = crAtAngle(tolueneData, theta)\n",
    "    intensity = (I_tot - I_dis) * rayleighRatioToluene / (I_tol)\n",
    "    wavelen = bufferData[\"Wavelength [nm]\"]\n",
    "    nMedium = bufferData[\"Refractive Index\"]\n",
    "    sigma_sca = np.array([diffScatteringCrossSection(radius, theta, wavelen, nMedium)\n",
    "                          for radius in radii*1e9]).flatten()*1e-4 # in m^-2\n",
    "    concentrationNumbers = distrib * intensity / sigma_sca # in m^-3\n",
    "    concentrationNumbers *= 1e-6 # convert to 1/mL\n",
    "    concentrationNumbersSum = integrate(radii, concentrationNumbers)\n",
    "    volumes = np.pi * radii**3 * 4/3 # in m^3\n",
    "    concentrationMass = particleData['density'] * volumes * concentrationNumbers\n",
    "    concentrationMassSum = integrate(radii, concentrationMass)\n",
    "    if plot:\n",
    "        createFigure(300, 2, quiet=True, tight_layout = {'pad': 0.05});\n",
    "        plt.subplot(3,2,1); plt.grid()\n",
    "        plt.errorbar(radii, distrib, yerr=distribU,\n",
    "                     ecolor='salmon', label=\"normalized\"); plt.legend()\n",
    "        plt.title(continResultDir.name)\n",
    "        plt.xlim(plotRangeX)\n",
    "        plt.subplot(3,2,2); plt.grid()\n",
    "        plt.semilogy(radii, sigma_sca)\n",
    "        plt.title(\"Diff. scattering cross section (m$^2$/sr)\")\n",
    "        plt.xlim(plotRangeX);\n",
    "        plt.subplot(3,1,2); plt.grid()\n",
    "        plt.plot(radii, concentrationNumbers,\n",
    "                 label=r\"1/mL=$\\int$\"+\"{:.3g}\".format(concentrationNumbersSum));\n",
    "        plt.ylabel(\"Numbers / mL\")\n",
    "        handles1, labels1 = plt.gca().get_legend_handles_labels()\n",
    "        ax2 = plt.gca().twinx()\n",
    "        ax2.plot(radii, concentrationMass, color=\"green\",\n",
    "                 label=r\"g/mL=$\\int$\"+\"{:.3g}\".format(concentrationMassSum));\n",
    "        ax2.set_ylabel(\"g / mL\")\n",
    "        handles2, labels2 = plt.gca().get_legend_handles_labels()\n",
    "        plt.xlim(plotRangeX);\n",
    "        plt.legend(handles1+handles2, labels1+labels2)\n",
    "    return theta, concentrationNumbersSum, concentrationMassSum\n",
    "\n",
    "concentrations = pd.DataFrame([getConcentration(dn, particleData, bufferData, tolueneData, plotRangeX=sizeRangeM, plot=True)\n",
    "                               for dn in sorted(resultDirs)], columns=(\"angle\", \"cNumbers\", \"cMass\"))"
   ]
  },
  {
   "cell_type": "code",
   "execution_count": null,
   "id": "ec8534a8-a02f-4245-859e-14d0d7a18477",
   "metadata": {},
   "outputs": [],
   "source": [
    "createFigure(300, 3, quiet=True, tight_layout = {'pad': 0.5});\n",
    "ax = plt.subplot(1,2,1)\n",
    "concentrations.plot('angle', 'cNumbers', marker='.', ax=ax, lw=0, grid=True,\n",
    "    label=f\"Number concentration, median: {np.median(concentrations.cNumbers):.3g}\"+\" $mL^{-1}$\");\n",
    "ax.set_ylabel(r\"Concentration in 1 / mL\")\n",
    "ax.set_xlabel(r\"Scattering Angle $\\Theta$ (degrees)\");\n",
    "#plt.ylim(0,np.median(concentrations.cNumbers)*3);\n",
    "ax = plt.subplot(1,2,2)\n",
    "concentrations.plot('angle', 'cMass', marker='.', ax=ax, lw=0, grid=True, color='green',\n",
    "                    label=f\"Mass concentration, median: {np.median(concentrations.cMass):.3g}\"+\" $g\\,/\\,mL$\");\n",
    "ax.set_ylabel(r\"Concentration in g / mL\")\n",
    "ax.set_xlabel(r\"Scattering Angle $\\Theta$ (degrees)\");\n",
    "#plt.ylim(0,np.median(concentrations.cMass)*2);"
   ]
  },
  {
   "cell_type": "markdown",
   "id": "a121c23b-8796-4580-8820-8fa3d71c2231",
   "metadata": {},
   "source": [
    "### Notes for stabilizing concentration distribution within measurements of a single sample\n",
    "- extract the largest peak from CONTIN and use that only"
   ]
  }
 ],
 "metadata": {
  "kernelspec": {
   "display_name": "Python 3",
   "language": "python",
   "name": "python3"
  },
  "language_info": {
   "codemirror_mode": {
    "name": "ipython",
    "version": 3
   },
   "file_extension": ".py",
   "mimetype": "text/x-python",
   "name": "python",
   "nbconvert_exporter": "python",
   "pygments_lexer": "ipython3",
   "version": "3.9.4"
  }
 },
 "nbformat": 4,
 "nbformat_minor": 5
}
