{
 "cells": [
  {
   "cell_type": "markdown",
   "id": "5562d24b-deb5-4fae-a0a1-9255f3ffe02a",
   "metadata": {},
   "source": [
    "# [Nanoparticle number concentration measurements by multi-angle dynamic light scattering](https://doi.org/10.1007/s11051-020-04840-8)\n",
    "\n",
    "This python implementation is based on:\n",
    "\n",
    "    Austin, J., Minelli, C., Hamilton, D. et al. Nanoparticle number concentration measurements by multi-angle dynamic light scattering. J Nanopart Res 22, 108 (2020).\n",
    "    https://doi.org/10.1007/s11051-020-04840-8"
   ]
  },
  {
   "cell_type": "markdown",
   "id": "6b65e489-ce4a-4547-92f3-93bf1736f382",
   "metadata": {},
   "source": [
    "## Parameters"
   ]
  },
  {
   "cell_type": "code",
   "execution_count": null,
   "id": "99dc2a4f-80bd-4998-8f36-a31d4ced415a",
   "metadata": {},
   "outputs": [],
   "source": [
    "basePath = r\"/Users/somebody\"\n",
    "pathToluene = basePath+\"/092 2021 Toluol\"\n",
    "pathBuffer = basePath+\"/093 2021 Wasser\"\n",
    "pathSample = basePath+\"/094 2021 PS-Standard 1zu1000\""
   ]
  },
  {
   "cell_type": "markdown",
   "id": "2ddfa087-ad51-43bb-b25b-91251ac11407",
   "metadata": {
    "tags": []
   },
   "source": [
    "### Refractive Index and density of particles\n",
    "- **Polypropylene (PP)**: 1.492 and 0.91 g/mL  \n",
    "  ( https://www.osapublishing.org/ao/abstract.cfm?uri=ao-42-3-592 )\n",
    "- **Polystyrene (PS)**: 1.593 and 1.05 g/mL\n",
    "- **Polyethylene (PE)**: 1.51 and 0.92 g/mL"
   ]
  },
  {
   "cell_type": "code",
   "execution_count": null,
   "id": "91ba324c-5ea8-466c-8cee-94bc4889a7a5",
   "metadata": {},
   "outputs": [],
   "source": [
    "# for Polypropylene, PE\n",
    "refracParticle = 1.51\n",
    "densityParticle = 0.92*1e6 # g/m^3"
   ]
  },
  {
   "cell_type": "markdown",
   "id": "bb83c61e-d297-4f50-9462-420f3a8d6948",
   "metadata": {},
   "source": [
    "### CONTIN parameters to adjust"
   ]
  },
  {
   "cell_type": "code",
   "execution_count": null,
   "id": "97feb422-cff3-4921-9561-04457a95895d",
   "metadata": {},
   "outputs": [],
   "source": [
    "sizeRangeM = (1e-9, 300e-9)\n",
    "fitRangeCrop = 30 # percentage of fit range width to ignore boundary peaks/artefacts in CONTIN results\n",
    "continConfig = dict(recalc=True,\n",
    "    ptRangeSec=(3e-7, 1e0), fitRangeM=sizeRangeM, gridpts=200,\n",
    "    transformData=True, baselineCoeffs=0, # N_L\n",
    "    # weighs noise level of data points accordinly for photon correlation spectroscopy\n",
    "    # where the variance of Y is proportional to (Y**2+1)/(4*Y**2)\n",
    "    # (from contin.for, line 1430)\n",
    "    weighResiduals=True,\n",
    ")\n",
    "if fitRangeCrop > 0 and fitRangeCrop < 100:\n",
    "    continConfig['fitRangeM'] = (continConfig['fitRangeM'][0]*(1-fitRangeCrop/100),\n",
    "                                 continConfig['fitRangeM'][1]*(1+fitRangeCrop/100))\n",
    "continConfig"
   ]
  },
  {
   "cell_type": "markdown",
   "id": "2b38af7d-905a-4221-9934-b7fd3cdcb450",
   "metadata": {},
   "source": [
    "### More parameters to adjust"
   ]
  },
  {
   "cell_type": "code",
   "execution_count": null,
   "id": "773239f3-b27d-440a-9766-8b19a603c9b5",
   "metadata": {},
   "outputs": [],
   "source": [
    "# Threshold for data to be included. Calculated by modified z-score based on median absolute deviation (MAD)\n",
    "# of the measured count rate in https://github.com/BAMresearch/jupyter_analysis_tools/blob/main/analysis.py\n",
    "countRateScoreMax = 1\n",
    "# Threshold for a distribution to be included. Calculated by the median ratio of distribution value against\n",
    "# its uncertainty which are determined by CONTIN. Kind of quality indicator for the solution found.\n",
    "uncertRatioMax = 1"
   ]
  },
  {
   "cell_type": "markdown",
   "id": "84c4276b-d116-46e2-8cd3-265d139de75b",
   "metadata": {},
   "source": [
    "### Select measurement files for Toluene, Buffer and Sample"
   ]
  },
  {
   "cell_type": "code",
   "execution_count": null,
   "id": "7a6e03d3-b553-4d97-a9b5-6b6bfbb8918f",
   "metadata": {},
   "outputs": [],
   "source": [
    "import numpy as np\n",
    "from analyse_dls_with_contin.jupyter_analysis_tools.datalocations import getDataDirs, getDataFiles, printFileList"
   ]
  },
  {
   "cell_type": "code",
   "execution_count": null,
   "id": "0458ddfb-66d4-4bf4-8f87-8b3f4591f178",
   "metadata": {},
   "outputs": [],
   "source": [
    "tolueneFiles = getDataFiles(pathToluene, include=\"*.ASC\", exclude=\"_average\")\n",
    "assert len(tolueneFiles), \"No files for Toluene selected!\"\n",
    "printFileList(tolueneFiles, numParts=10)"
   ]
  },
  {
   "cell_type": "code",
   "execution_count": null,
   "id": "3fb48e0b-fac8-41ae-8490-d83fb67f7af2",
   "metadata": {},
   "outputs": [],
   "source": [
    "bufferFiles = getDataFiles(pathBuffer, include=\"*.ASC\", exclude=\"_average\")\n",
    "assert len(bufferFiles), \"No files for the buffer selected!\"\n",
    "printFileList(bufferFiles, numParts=10)"
   ]
  },
  {
   "cell_type": "code",
   "execution_count": null,
   "id": "4597800e-2571-4f68-a8b9-960bb3dc3928",
   "metadata": {},
   "outputs": [],
   "source": [
    "particleFiles = getDataFiles(pathSample, include=\"*averaged.ASC\")\n",
    "particleFiles = getDataFiles(pathSample, include=\"*.ASC\", exclude=\"_average\")\n",
    "assert len(particleFiles), \"No files for the particles selected!\"\n",
    "printFileList(particleFiles, numParts=10)"
   ]
  },
  {
   "cell_type": "markdown",
   "id": "ecc73e52-fc3f-4372-b0b7-69f4161c7e3e",
   "metadata": {},
   "source": [
    "## No further parameters to adjust beyond this line\n",
    "---"
   ]
  },
  {
   "cell_type": "markdown",
   "id": "e82e7d8e-5baf-477e-a853-67b53075657b",
   "metadata": {},
   "source": [
    "## Read DLS intensity (count rate) and normalize its scaling across measurements"
   ]
  },
  {
   "cell_type": "code",
   "execution_count": null,
   "id": "a3a9f280-c664-4946-b698-c7870d81295d",
   "metadata": {},
   "outputs": [],
   "source": [
    "# derived from '2020-07-31 DLS concentration vs. count rate'\n",
    "import os\n",
    "from pathlib import Path\n",
    "import pandas as pd\n",
    "from analyse_dls_with_contin.dlshelpers import getDLSFileData\n",
    "    \n",
    "def processDLSMeasurements(files, monitorDiodeRef=0, monitorDiodeScale=1):\n",
    "    \"\"\"Treat a set of files as measurement of the same sample,\n",
    "       at different scattering angles and with repetitions, possibly.\n",
    "       Returns count rate averages and std. deviations for each angle.\"\"\"\n",
    "    if isinstance(files, str):\n",
    "        files = (files,)\n",
    "    # gather all relevant data from files in a directory\n",
    "    dirData = [getDLSFileData(fn) for fn in files]\n",
    "    if not len(dirData):\n",
    "        return {}\n",
    "    #print(dirData)\n",
    "    # create a DataFrame from that\n",
    "    columns = set([key for fileData in dirData for key in fileData.keys()\n",
    "                   if key not in (\"correlation\", \"countrate\", \"angles\", \"meancr\", \"sampleName\", \"filename\")])\n",
    "    df = pd.DataFrame({key: [fileData.get(key, None) for fileData in dirData]\n",
    "                       for key in columns})\n",
    "    name = '+'.join(list(set([Path(fn).parent.name for fn in files])))\n",
    "    summary = dict(name=name, timestamp=df.timestamp[0],\n",
    "                   concentration=df.concentration[0])\n",
    "    if \"monitorDiode\" in df.columns:\n",
    "        if monitorDiodeRef != 0:\n",
    "            monitorDiodeScale = monitorDiodeRef / df.monitorDiode.mean()\n",
    "        summary.update(dict(monitorDiode=df.monitorDiode.mean()))\n",
    "        print(\"Monitor diode reference: {:.0f}, this mon. diode: {:7.0f}, scale: {:.6f} ({})\"\n",
    "              .format(monitorDiodeRef, summary['monitorDiode'], monitorDiodeScale, summary['name']))\n",
    "    summary.update(dict(monitorDiodeScale=monitorDiodeScale))\n",
    "    for name in (\"Temperature\", \"Viscosity\", \"Refractive Index\", \"Wavelength\"):\n",
    "        for colname in df.columns:\n",
    "           if colname.startswith(name):\n",
    "               summary[colname] = df[colname].mean()\n",
    "    # all sets of angles found in files in this directory, a set can have unique entries only\n",
    "    dirAngles = set([tuple(fileData['angles']) for fileData in dirData])\n",
    "    countRates, countRateMeans = [], []\n",
    "    for angles in dirAngles:\n",
    "        # concatenate countrates (time series) of the same set of angles only\n",
    "        # averaging count rates over time later\n",
    "        countRates.append(pd.concat([fileData.get('countrate', pd.DataFrame())\n",
    "                                     for fileData in dirData\n",
    "                                     if tuple(fileData['angles']) == angles]))\n",
    "        countRateMeans.append(pd.concat([fileData.get('meancr', pd.DataFrame())\n",
    "                                     for fileData in dirData\n",
    "                                     if tuple(fileData['angles']) == angles]))\n",
    "    # count rate mean over all measurements (must be at same angles!)\n",
    "    countRates = pd.concat(countRates, axis=1)*monitorDiodeScale\n",
    "    countRateMeans = pd.concat(countRateMeans, axis=1)*monitorDiodeScale\n",
    "    countRates.sort_index(axis=1, inplace=True)\n",
    "    countRateMeans.sort_index(axis=1, inplace=True)\n",
    "    def seriesToDict(series, lbl):\n",
    "        return {\"{}{:.0f}\".format(lbl, key): value for key, value in zip(series.index, series.values)}\n",
    "    if not countRates.empty:\n",
    "        summary.update(seriesToDict(countRates.mean(), 'crmean'))\n",
    "        summary.update(seriesToDict(countRates.std(), 'crstd'))\n",
    "    else:\n",
    "        summary.update(seriesToDict(countRateMeans.mean(), 'crmean'))\n",
    "        summary.update(seriesToDict(countRateMeans.std(), 'crstd'))\n",
    "    summary.update(angles=countRateMeans.columns.astype(int).tolist())\n",
    "    print(\"Measurement angles:\", summary['angles'])\n",
    "    return summary\n",
    "\n",
    "def crAtAngle(summaryDict, degrees):\n",
    "    return (summaryDict.get(f'crmean{degrees:.0f}', -1.),\n",
    "            summaryDict.get(f'crstd{degrees:.0f}', -1.))\n",
    "\n",
    "def crMean(summaryDict):\n",
    "     return np.array([crAtAngle(summaryDict, theta)[0] for theta in getAngles(summaryDict)])\n",
    "\n",
    "def getAngles(summaryDict):\n",
    "    return summaryDict.get('angles', []) if summaryDict else []"
   ]
  },
  {
   "cell_type": "code",
   "execution_count": null,
   "id": "17a3f962-b003-40aa-9a40-b8eb3c1309c8",
   "metadata": {},
   "outputs": [],
   "source": [
    "tolueneData = processDLSMeasurements(tolueneFiles)\n",
    "crTol_mean = crMean(tolueneData)\n",
    "#tolueneData, crTol_mean"
   ]
  },
  {
   "cell_type": "code",
   "execution_count": null,
   "id": "606c3b93-fbd9-474a-9df8-7f7b042352e1",
   "metadata": {},
   "outputs": [],
   "source": [
    "bufferData = processDLSMeasurements(bufferFiles, monitorDiodeRef=tolueneData['monitorDiode'])\n",
    "crBuf_mean = crMean(bufferData)\n",
    "#bufferData, crBuf_mean"
   ]
  },
  {
   "cell_type": "code",
   "execution_count": null,
   "id": "e8fcf9cd-e56d-4121-bc62-3485abd786bb",
   "metadata": {},
   "outputs": [],
   "source": [
    "if all((\"_averaged.ASC\" in fn for fn in particleFiles)):\n",
    "    # hotfix for averaged files, compare with non-avg files:\n",
    "    # Monitor diode reference: 1567735, this mon. diode:   21146, scale: 74.138438 (094 2021 PS-Standard 1zu1000)\n",
    "    particleData = processDLSMeasurements(particleFiles, monitorDiodeScale=74.138438)\n",
    "else:\n",
    "    particleData = processDLSMeasurements(particleFiles, monitorDiodeRef=tolueneData['monitorDiode'])\n",
    "particleData['density'] = densityParticle\n",
    "crTot_mean = crMean(particleData)\n",
    "#particleData, crTot_mean"
   ]
  },
  {
   "cell_type": "markdown",
   "id": "edd0fb62-c976-4fd0-8617-23ef5a76de96",
   "metadata": {},
   "source": [
    "## Get the size distribution\n",
    "\n",
    "**According to Malvern:**  \n",
    "*\"The first order result from a DLS experiment is an intensity distribution of particle sizes. The intensity distribution is naturally weighted according to the scattering intensity of each particle fraction or family. For biological materials or polymers the particle scattering intensity is proportional to the square of the molecular weight.\"*  \n",
    "( https://www.chem.uci.edu/~dmitryf/manuals/Fundamentals/DLS%20terminology.pdf )\n",
    "\n",
    "**Check:**  \n",
    "[The CONTIN algorithm and its application to determine the size distribution of microgel suspensions ](https://doi.org/10.1063/1.4921686)"
   ]
  },
  {
   "cell_type": "markdown",
   "id": "4fecf4ba-cc74-46a8-91c9-7a4920ef4dd0",
   "metadata": {},
   "source": [
    "### Run CONTIN"
   ]
  },
  {
   "cell_type": "code",
   "execution_count": null,
   "id": "b6a4baf2-5f3b-4155-893c-b89047fd2095",
   "metadata": {},
   "outputs": [],
   "source": [
    "from analyse_dls_with_contin.jupyter_analysis_tools.utils import updatedDict\n",
    "continConfigs = [updatedDict(continConfig, 'angle', angle)\n",
    "                 for angle in getAngles(particleData)]\n",
    "#continConfigs"
   ]
  },
  {
   "cell_type": "code",
   "execution_count": null,
   "id": "a9c60564-15d0-47a3-865d-f93ef854e94d",
   "metadata": {},
   "outputs": [],
   "source": [
    "from analyse_dls_with_contin.contin import runContinOverFiles\n",
    "resultDirs = runContinOverFiles(particleFiles, continConfigs, nthreads=None)\n",
    "resultDirs"
   ]
  },
  {
   "cell_type": "markdown",
   "id": "daaa083e-b677-4621-bce1-a5e79b9f56d7",
   "metadata": {},
   "source": [
    "## The differential scattering cross section\n",
    "Using [miepython](https://miepython.readthedocs.io/en/latest/index.html):\n",
    "\n",
    "See also https://miepython.readthedocs.io/en/latest/03_angular_scattering.html#Differential-Scattering-Cross-Section  \n",
    "cites [Wiscombe, W. J. (1979). Mie Scattering Calculations. doi:10.5065/D6ZP4414](https://opensky.ucar.edu/islandora/object/technotes:232)"
   ]
  },
  {
   "cell_type": "code",
   "execution_count": null,
   "id": "67202c86-937b-464e-986f-ca04c6ecb6dd",
   "metadata": {},
   "outputs": [],
   "source": [
    "#!pip install miepython # install miepython module"
   ]
  },
  {
   "cell_type": "code",
   "execution_count": null,
   "id": "760c5e8b-8d54-40ec-9f48-88fc7615f369",
   "metadata": {},
   "outputs": [],
   "source": [
    "import miepython\n",
    "from analyse_dls_with_contin.jupyter_analysis_tools.utils import isList\n",
    "def diffScatteringCrossSection(radius, angles, wavelen, nMedium, verbose=False):\n",
    "    geometric_cross_section = np.pi * radius**2 * 1e-14 # cm**2\n",
    "    if not isList(angles):\n",
    "        angles = np.array([angles])\n",
    "    mu = np.cos(np.radians(angles))\n",
    "    m = refracParticle/nMedium\n",
    "    x = np.pi*2*radius/(wavelen/nMedium)\n",
    "    if verbose:\n",
    "        print(wavelen, 2*radius, nMedium, refracParticle/nMedium, x, geometric_cross_section)\n",
    "    qext, qsca, qback, g = miepython.mie(m,x)\n",
    "    return geometric_cross_section * qext * miepython.i_unpolarized(m,x,mu)"
   ]
  },
  {
   "cell_type": "markdown",
   "id": "c9f7ce13-4379-4912-a6a6-7a36421a6eee",
   "metadata": {},
   "source": [
    "## Rayleigh ratio\n",
    "*\"The Rayleigh ratio of toluene is known from the literature and is equal to 1.35·10e−5·cm−1 at 632.8 nm and 25 °C (Brar and Verma 2011)\"*"
   ]
  },
  {
   "cell_type": "code",
   "execution_count": null,
   "id": "22f0d3ce-924a-42ff-bd50-1e079bf8b09e",
   "metadata": {},
   "outputs": [],
   "source": [
    "rayleighRatioToluene = 1.35e-5*1e2 # in 1/m at wavelength of 632.8 nm and 25 °C"
   ]
  },
  {
   "cell_type": "markdown",
   "id": "e701c9c1-14c3-46a0-8b4e-502885cd5f97",
   "metadata": {},
   "source": [
    "## Calculate and plot the concentration distributions"
   ]
  },
  {
   "cell_type": "code",
   "execution_count": null,
   "id": "9318f88b-1f20-459b-bd6f-b98dddf94f02",
   "metadata": {},
   "outputs": [],
   "source": [
    "import matplotlib.pyplot as plt\n",
    "from analyse_dls_with_contin.jupyter_analysis_tools.plotting import createFigure\n",
    "from analyse_dls_with_contin.jupyter_analysis_tools.distrib import (Distribution,\n",
    "    integrate, normalizeDistrib, findPeakRanges, findLocalMinima)\n",
    "from analyse_dls_with_contin.contin import getContinResults\n",
    "import numpy as np\n",
    "\n",
    "def getConcentration(continResultDir, particleData, bufferData, tolueneData,\n",
    "                     countRateScoreMax=1., uncertRatioMax=1., plotRangeX=None, plot=False):\n",
    "    \"\"\"Implements [equation 8 in Austin 2020](https://link.springer.com/content/pdf/10.1007/s11051-020-04840-8.pdf).\"\"\"\n",
    "    dfDistrib, dfFit, varmap = getContinResults(continResultDir)\n",
    "    if fitRangeCrop > 0 and fitRangeCrop < 100:\n",
    "        # cropping distribution result by *fitRangeCrop* CONTIN parameter above\n",
    "        # percentage of fit range width to ignore boundary peaks/artefacts on\n",
    "        rmin = dfDistrib.radius.min()/(1-fitRangeCrop/100)\n",
    "        rmax = dfDistrib.radius.max()/(1+fitRangeCrop/100)\n",
    "        #print(rmin, rmax)\n",
    "        rmin = np.argwhere(dfDistrib.radius.values > rmin)[0][0]\n",
    "        rmax = np.argwhere(dfDistrib.radius.values < rmax)[-1][0]\n",
    "        #print(rmin, rmax)\n",
    "        dfDistrib = dfDistrib[rmin:rmax+1]\n",
    "    if all(dfDistrib.distrib == 0.):\n",
    "        return None, None, None # skip this one, no distribution found\n",
    "    distrib = Distribution(dfDistrib.radius, dfDistrib.distrib, dfDistrib.err, maxPeakCount=1)\n",
    "    if abs(1.-varmap.get('score', 1.0)) > countRateScoreMax:\n",
    "        return None, None, None # skip this one, data score too bad\n",
    "    if not len(distrib.peaks) or distrib.uncertRatioMedian(distrib.peaks[0]) > uncertRatioMax:\n",
    "        return None, None, None # skip this one, distribution peak uncertainty to large\n",
    "    x, y, u = distrib.peakData(distrib.peaks[0])\n",
    "    theta = varmap['angle']\n",
    "    I_tot, _ = crAtAngle(particleData, theta)\n",
    "    I_dis, _ = crAtAngle(bufferData, theta)\n",
    "    I_tol, _ = crAtAngle(tolueneData, theta)\n",
    "    intensity = (I_tot - I_dis) * rayleighRatioToluene / (I_tol)\n",
    "    wavelen = bufferData[\"Wavelength [nm]\"]\n",
    "    nMedium = bufferData[\"Refractive Index\"]\n",
    "    sigma_sca = np.array([diffScatteringCrossSection(radius, theta, wavelen, nMedium)\n",
    "                          for radius in x*1e9]).flatten()*1e-4 # in m^-2\n",
    "    concentrationNumbers = y * intensity / sigma_sca # in m^-3\n",
    "    concentrationNumbers *= 1e-6 # convert to 1/mL\n",
    "    concentrationNumbersSum = integrate(x, concentrationNumbers)\n",
    "    volumes = np.pi * x**3 * 4/3 # in m^3\n",
    "    concentrationMass = particleData['density'] * volumes * concentrationNumbers\n",
    "    concentrationMassSum = integrate(x, concentrationMass)\n",
    "    if plot:\n",
    "        createFigure(300, 2, quiet=True, tight_layout = {'pad': 0.05});\n",
    "        plt.subplot(3,2,1); plt.grid()\n",
    "        distPar, _ = distrib.peakDistrPar(plotAxes=[plt.gca()], showFullRange=True)\n",
    "        plt.title(continResultDir.name+\"\\n(\"+(f\"score: {varmap['score']}, \" if 'score' in varmap else \"\")\n",
    "                  +\"$U_{ratio}$: \"+f\"{distrib.uncertRatioMedian(distrib.peaks[0]):.3f})\")\n",
    "\n",
    "        plt.subplot(3,2,2); plt.grid()\n",
    "        plt.semilogy(x, sigma_sca)\n",
    "        plt.title(\"Diff. scattering cross section (m$^2$/sr)\")\n",
    "        plt.xlim(plotRangeX);\n",
    "        \n",
    "        plt.subplot(3,1,2); plt.grid()\n",
    "        plt.plot(x, concentrationNumbers,\n",
    "                 label=r\"1/mL=$\\int$\"+\"{:.3g}\".format(concentrationNumbersSum));\n",
    "        plt.ylabel(\"Numbers / mL\")\n",
    "        handles1, labels1 = plt.gca().get_legend_handles_labels()\n",
    "        ax2 = plt.gca().twinx()\n",
    "        ax2.plot(x, concentrationMass, color=\"green\",\n",
    "                 label=r\"g/mL=$\\int$\"+\"{:.3g}\".format(concentrationMassSum));\n",
    "        ax2.set_ylabel(\"g / mL\")\n",
    "        handles2, labels2 = plt.gca().get_legend_handles_labels()\n",
    "        plt.xlim(plotRangeX);\n",
    "        plt.legend(handles1+handles2, labels1+labels2)\n",
    "    return theta, concentrationNumbersSum, concentrationMassSum\n",
    "\n",
    "concentrations = pd.DataFrame([getConcentration(dn, particleData, bufferData, tolueneData,\n",
    "                                                countRateScoreMax=countRateScoreMax, uncertRatioMax=uncertRatioMax,\n",
    "                                                plotRangeX=sizeRangeM, plot=True)\n",
    "                               for dn in sorted(resultDirs)],\n",
    "                              columns=(\"angle\", \"cNumbers\", \"cMass\")).dropna()"
   ]
  },
  {
   "cell_type": "markdown",
   "id": "4b19fecc-278a-47b7-a9c7-675c6ffefdf7",
   "metadata": {},
   "source": [
    "## Median concentration across all measured angles"
   ]
  },
  {
   "cell_type": "code",
   "execution_count": null,
   "id": "ec8534a8-a02f-4245-859e-14d0d7a18477",
   "metadata": {},
   "outputs": [],
   "source": [
    "if not len(concentrations):\n",
    "    print(\"No concentrations found!\")\n",
    "else:\n",
    "    createFigure(300, 3, quiet=True, tight_layout = {'pad': 0.5});\n",
    "    ax = plt.subplot(1,2,1)\n",
    "    cNumberMed = np.median(concentrations.cNumbers)\n",
    "    concentrations.plot('angle', 'cNumbers', marker='.', ax=ax, lw=0, grid=True,\n",
    "        label=f\"Number concentration, median: {cNumberMed:.3g}\"+\" $mL^{-1}$\");\n",
    "    ax.hlines(cNumberMed, concentrations.angle.min(), concentrations.angle.max(), linestyles=\"dashed\")\n",
    "    ax.set_ylabel(r\"Concentration in 1 / mL\")\n",
    "    ax.set_xlabel(r\"Scattering Angle $\\Theta$ (degrees)\");\n",
    "    #plt.ylim(0,np.median(concentrations.cNumbers)*3);\n",
    "    ax = plt.subplot(1,2,2)\n",
    "    cMassMed = np.median(concentrations.cMass)\n",
    "    concentrations.plot('angle', 'cMass', marker='.', ax=ax, lw=0, grid=True, color='green',\n",
    "                        label=f\"Mass concentration, median: {cMassMed:.3g}\"+\" $g\\,/\\,mL$\");\n",
    "    ax.hlines(cMassMed, concentrations.angle.min(), concentrations.angle.max(), linestyles=\"dashed\", color='green')\n",
    "    ax.set_ylabel(r\"Concentration in g / mL\")\n",
    "    ax.set_xlabel(r\"Scattering Angle $\\Theta$ (degrees)\");\n",
    "    #plt.ylim(0,np.median(concentrations.cMass)*2);"
   ]
  }
 ],
 "metadata": {
  "kernelspec": {
   "display_name": "Python 3",
   "language": "python",
   "name": "python3"
  },
  "language_info": {
   "codemirror_mode": {
    "name": "ipython",
    "version": 3
   },
   "file_extension": ".py",
   "mimetype": "text/x-python",
   "name": "python",
   "nbconvert_exporter": "python",
   "pygments_lexer": "ipython3",
   "version": "3.9.4"
  }
 },
 "nbformat": 4,
 "nbformat_minor": 5
}
