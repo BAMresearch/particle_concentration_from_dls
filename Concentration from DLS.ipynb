{
 "cells": [
  {
   "cell_type": "markdown",
   "id": "5562d24b-deb5-4fae-a0a1-9255f3ffe02a",
   "metadata": {},
   "source": [
    "# [Nanoparticle number concentration measurements by multi-angle dynamic light scattering](https://doi.org/10.1007/s11051-020-04840-8)\n",
    "\n",
    "Implementation following\n",
    "\n",
    "    Austin, J., Minelli, C., Hamilton, D. et al. Nanoparticle number concentration measurements by multi-angle dynamic light scattering. J Nanopart Res 22, 108 (2020). https://doi.org/10.1007/s11051-020-04840-8"
   ]
  },
  {
   "cell_type": "code",
   "execution_count": null,
   "id": "99dc2a4f-80bd-4998-8f36-a31d4ced415a",
   "metadata": {},
   "outputs": [],
   "source": [
    "pathToluene = \"20210511/092 2021 Toluol\"\n",
    "pathBuffer = \"20210511/093 2021 Wasser\"\n",
    "pathSample = \"20210511/094 2021 PS-Standard 1zu1000\"\n",
    "refracParticle = 1.492"
   ]
  },
  {
   "cell_type": "markdown",
   "id": "e82e7d8e-5baf-477e-a853-67b53075657b",
   "metadata": {},
   "source": [
    "### Helpers"
   ]
  },
  {
   "cell_type": "code",
   "execution_count": null,
   "id": "a3a9f280-c664-4946-b698-c7870d81295d",
   "metadata": {},
   "outputs": [],
   "source": [
    "# derived from '2020-07-31 DLS concentration vs. count rate'\n",
    "import os\n",
    "from pathlib import Path\n",
    "import pandas as pd\n",
    "from analyse_dls_with_contin.dlshelpers import getDLSFileData\n",
    "    \n",
    "def processDLSMeasurements(files, monitorDiodeRef=0):\n",
    "    \"\"\"Treat a set of files as measurement of the same sample,\n",
    "       at different scattering angles and with repetitions, possibly.\n",
    "       Returns count rate averages and std. deviations for each angle.\"\"\"\n",
    "    if isinstance(files, str):\n",
    "        files = (files,)\n",
    "    # gather all relevant data from files in a directory\n",
    "    dirData = [getDLSFileData(fn) for fn in files]\n",
    "    if not len(dirData):\n",
    "        return\n",
    "    #print(dirData)\n",
    "    # create a DataFrame from that\n",
    "    df = pd.DataFrame({key: [fileData[key] for fileData in dirData]\n",
    "                       for key in dirData[0].keys() if key not in (\"countrate\", \"angles\")})\n",
    "    monitorDiodeScale = monitorDiodeRef / df.monitorDiode.mean() if monitorDiodeRef != 0 else 1\n",
    "    name = '+'.join(list(set([Path(fn).parent.name for fn in files])))\n",
    "    summary = dict(name=name, timestamp=df.timestamp[0],\n",
    "                   monitorDiode=df.monitorDiode.mean(),\n",
    "                   monitorDiodeScale=monitorDiodeScale,\n",
    "                   concentration=df.concentration[0])\n",
    "    for name in (\"Temperature\", \"Viscosity\", \"Refractive Index\", \"Wavelength\"):\n",
    "        for colname in df.columns:\n",
    "           if colname.startswith(name):\n",
    "               summary[colname] = df[colname].mean()\n",
    "    print(\"Monitor diode reference: {:.0f}, this mon. diode: {:7.0f}, scale: {:.6f} ({})\"\n",
    "          .format(monitorDiodeRef, summary['monitorDiode'], monitorDiodeScale, summary['name']))\n",
    "    # all sets of angles found in files in this directory, a set can have unique entries only\n",
    "    dirAngles = set([tuple(fileData['angles']) for fileData in dirData])\n",
    "    countRates = []\n",
    "    for angles in dirAngles:\n",
    "        # concatenate countrates (time series) of the same angles only (for averaging over time later)\n",
    "        countRates.append(pd.concat([fileData['countrate']\n",
    "                                     for fileData in dirData\n",
    "                                     if tuple(fileData['angles']) == angles]))\n",
    "    # count rate mean over all measurements (must be at same angles!)\n",
    "    countrate = pd.concat(countRates, axis=1)*monitorDiodeScale\n",
    "    print(\"Measurement angles:\", sorted(countrate.columns.astype(int)))\n",
    "    countrate.sort_index(axis=1, inplace=True)\n",
    "    def seriesToDict(series, lbl):\n",
    "        return {\"{}{:.0f}\".format(lbl, key): value for key, value in zip(series.index, series.values)}\n",
    "    summary.update(seriesToDict(countrate.mean(), 'crmean'))\n",
    "    summary.update(seriesToDict(countrate.std(), 'crstd'))\n",
    "    return summary\n",
    "\n",
    "def crAtAngle(summaryDict, degrees):\n",
    "    return (summaryDict.get(f'crmean{degrees:.0f}', -1.),\n",
    "            summaryDict.get(f'crstd{degrees:.0f}', -1.))\n",
    "\n",
    "def crMean(summaryDict):\n",
    "     return np.array([crAtAngle(summaryDict, theta)[0] for theta in getAngles(summaryDict)])\n",
    "\n",
    "def getAngles(summaryDict):\n",
    "    prefix = 'crmean'\n",
    "    return sorted([int(key[len(prefix):]) for key in summaryDict.keys() if key.startswith(prefix)])"
   ]
  },
  {
   "cell_type": "code",
   "execution_count": null,
   "id": "7c69416a-e148-433f-8a08-79d05db4861d",
   "metadata": {},
   "outputs": [],
   "source": [
    "from analyse_dls_with_contin.jupyter_analysis_tools.datalocations import getDataDirs, getDataFiles, printFileList"
   ]
  },
  {
   "cell_type": "code",
   "execution_count": null,
   "id": "5345b626-daa1-406b-900b-ad0c32aadbfa",
   "metadata": {},
   "outputs": [],
   "source": [
    "import numpy as np\n",
    "tolueneFiles = getDataFiles(pathToluene, include=\"*.ASC\", exclude=\"_average\")\n",
    "printFileList(tolueneFiles)\n",
    "tolueneData = processDLSMeasurements(tolueneFiles)\n",
    "crTol_mean = crMean(tolueneData)\n",
    "tolueneData, crTol_mean"
   ]
  },
  {
   "cell_type": "code",
   "execution_count": null,
   "id": "321b407e-b576-4363-bcdd-506ca9487867",
   "metadata": {},
   "outputs": [],
   "source": [
    "bufferFiles = getDataFiles(pathBuffer, include=\"*.ASC\", exclude=\"_average\")\n",
    "printFileList(bufferFiles)\n",
    "bufferData = processDLSMeasurements(bufferFiles, monitorDiodeRef=tolueneData['monitorDiode'])\n",
    "crBuf_mean = crMean(bufferData)\n",
    "bufferData, crBuf_mean"
   ]
  },
  {
   "cell_type": "code",
   "execution_count": null,
   "id": "23ffc8e4-ea3d-4a66-bc9f-a99547c96c12",
   "metadata": {},
   "outputs": [],
   "source": [
    "particleFiles = getDataFiles(pathSample, include=\"*.ASC\", exclude=\"_average\")\n",
    "printFileList(particleFiles)\n",
    "particleData = processDLSMeasurements(particleFiles, monitorDiodeRef=tolueneData['monitorDiode'])\n",
    "crTot_mean = crMean(particleData)\n",
    "particleData, crTot_mean"
   ]
  },
  {
   "cell_type": "markdown",
   "id": "daaa083e-b677-4621-bce1-a5e79b9f56d7",
   "metadata": {},
   "source": [
    "## The differential scattering cross section using Mie theory\n",
    "\n",
    "See https://pymiescatt.readthedocs.io/en/latest/forward.html#functions-for-single-particles\n",
    "\n",
    "Refractive Index of\n",
    "- Polypropylene, PP: 1.492 (https://www.osapublishing.org/ao/abstract.cfm?uri=ao-42-3-592)\n",
    "- Polystyrene, PS: 1.593\n",
    "\n",
    "### Using [miepython](https://miepython.readthedocs.io/en/latest/index.html)\n",
    "\n",
    "See also https://miepython.readthedocs.io/en/latest/03_angular_scattering.html#Differential-Scattering-Cross-Section  \n",
    "cites [Wiscombe, W. J. (1979). Mie Scattering Calculations. doi:10.5065/D6ZP4414](https://opensky.ucar.edu/islandora/object/technotes:232)"
   ]
  },
  {
   "cell_type": "code",
   "execution_count": null,
   "id": "760c5e8b-8d54-40ec-9f48-88fc7615f369",
   "metadata": {},
   "outputs": [],
   "source": [
    "import miepython\n",
    "from analyse_dls_with_contin.jupyter_analysis_tools.utils import isList\n",
    "def diffScatteringCrossSection(radius, angles, wavelen, nMedium, verbose=False):\n",
    "    geometric_cross_section = np.pi * radius**2 * 1e-14 # cm**2\n",
    "    if not isList(angles):\n",
    "        angles = np.array([angles])\n",
    "    mu = np.cos(np.radians(angles))\n",
    "    m, x = refracParticle/nMedium, np.pi*2*radius/(wavelen/nMedium)\n",
    "    if verbose:\n",
    "        print(wavelen, 2*radius, nMedium, refracParticle/nMedium, x, geometric_cross_section)\n",
    "    qext, qsca, qback, g = miepython.mie(m,x)\n",
    "    return geometric_cross_section * qext * miepython.i_unpolarized(m,x,mu)"
   ]
  },
  {
   "cell_type": "code",
   "execution_count": null,
   "id": "c8c8fefe-4e9d-43a2-81f7-2125688efdeb",
   "metadata": {},
   "outputs": [],
   "source": [
    "# Example for testing\n",
    "import numpy as np\n",
    "radius = 850.\n",
    "wavelen = bufferData[\"Wavelength [nm]\"]\n",
    "nMedium = bufferData[\"Refractive Index\"]\n",
    "angles = getAngles(tolueneData)\n",
    "# angles = np.linspace(0,180,1000)\n",
    "sigma_sca = diffScatteringCrossSection(radius, angles, wavelen, nMedium, verbose=True)"
   ]
  },
  {
   "cell_type": "code",
   "execution_count": null,
   "id": "e011ae39-4d8a-412b-878d-fe2db7c4dd31",
   "metadata": {},
   "outputs": [],
   "source": [
    "# plotting Mie scattering and count rates over the angles\n",
    "import matplotlib.pyplot as plt\n",
    "from analyse_dls_with_contin.jupyter_analysis_tools.plotting import createFigure\n",
    "createFigure(300, 2.2, quiet=True, tight_layout = {'pad': 0.05});\n",
    "plt.subplot(2,3,1)\n",
    "plt.plot(angles, sigma_sca, '.', color='blue')\n",
    "plt.yscale('log'); plt.grid(True)\n",
    "plt.title(f\"Radius={radius:.0f} nm, Refractive index m={refracParticle:.2f}, $\\lambda$={wavelen:.1f} nm\")\n",
    "plt.xlabel(r\"Scattering Angle $\\Theta$ (degrees)\");\n",
    "plt.ylabel(\"Diff. Scattering Cross Section (cm$^2$/sr)\");\n",
    "\n",
    "plt.subplot(2,3,2)\n",
    "plt.plot(angles, sigma_sca*crTol_mean, '.', color='blue')\n",
    "plt.yscale('log'); plt.grid(True)\n",
    "plt.xlabel(r\"Scattering Angle $\\Theta$ (degrees)\");\n",
    "plt.ylabel(\"Diff. Scattering Cross Section (cm$^2$/sr)$\\;\\cdot\\; I_{tol}$\");\n",
    "\n",
    "plt.subplot(2,3,3)\n",
    "plt.plot(angles, crTol_mean, '.', color='blue')\n",
    "plt.yscale('log'); plt.grid(True)\n",
    "plt.title(\"$I_{tol}$, Intensity of Toluene\")\n",
    "plt.xlabel(r\"Scattering Angle $\\Theta$ (degrees)\");\n",
    "\n",
    "plt.subplot(2,3,4)\n",
    "rayleighRatio = 1.35e-5 # in 1/cm at wavelength of 632.8 nm and 25 °C\n",
    "plt.plot(angles, (crTot_mean - crBuf_mean) * rayleighRatio, '.', color='blue')\n",
    "plt.yscale('log'); plt.grid(True)\n",
    "plt.ylabel(r\"$(I_{tot}-I_{dis}) R_{Tol}$\")\n",
    "plt.xlabel(r\"Scattering Angle $\\Theta$ (degrees)\");"
   ]
  },
  {
   "cell_type": "markdown",
   "id": "bed14505-e854-4ad3-a626-f6efa25ffe75",
   "metadata": {},
   "source": [
    "## Get the intensity distribution\n",
    "\n",
    "**According to Malvern:**  \n",
    "*\"The first order result from a DLS experiment is an intensity distribution of particle sizes. The intensity distribution is naturally weighted according to the scattering intensity of each particle fraction or family. For biological materials or polymers the particle scattering intensity is proportional to the square of the molecular weight.\"*  \n",
    "( https://www.chem.uci.edu/~dmitryf/manuals/Fundamentals/DLS%20terminology.pdf )\n",
    "\n",
    "**Check:**  \n",
    "[The CONTIN algorithm and its application to determine the size distribution of microgel suspensions ](https://doi.org/10.1063/1.4921686)"
   ]
  },
  {
   "cell_type": "markdown",
   "id": "febeb3ba-98e3-47cf-9f84-9057612f45ba",
   "metadata": {},
   "source": [
    "### Run CONTIN"
   ]
  },
  {
   "cell_type": "code",
   "execution_count": null,
   "id": "29873bd5-3149-428a-83d3-a287c1cd3257",
   "metadata": {},
   "outputs": [],
   "source": [
    "sizeRangeM = (1e-9, 200e-9)\n",
    "continConfig = dict(\n",
    "    angle=90,\n",
    "    ptRangeSec=(3e-7, 1e0), fitRangeM=sizeRangeM, gridpts=200,\n",
    "    transformData=True, freeBaseline=True, weighResiduals=False,\n",
    ")\n",
    "import copy\n",
    "def updatedDict(d, key, value):\n",
    "    dd = copy.copy(d)\n",
    "    dd[key] = value\n",
    "    return dd"
   ]
  },
  {
   "cell_type": "code",
   "execution_count": null,
   "id": "d5d7c61d-8b78-4764-86b8-0de3f719d039",
   "metadata": {},
   "outputs": [],
   "source": [
    "angles = getAngles(particleData)\n",
    "continConfigs = [updatedDict(continConfig, 'angle', angle) for angle in getAngles(particleData)]\n",
    "continConfigs"
   ]
  },
  {
   "cell_type": "code",
   "execution_count": null,
   "id": "37712a19-e2d3-428b-b9ed-bacd723ae182",
   "metadata": {},
   "outputs": [],
   "source": [
    "from analyse_dls_with_contin.contin import runContinOverFiles, getContinResults\n",
    "resultDirs = runContinOverFiles(particleFiles, continConfigs, nthreads=None)\n",
    "resultDirs"
   ]
  },
  {
   "cell_type": "markdown",
   "id": "c9f7ce13-4379-4912-a6a6-7a36421a6eee",
   "metadata": {},
   "source": [
    "### Rayleigh ratio\n",
    "*\"The Rayleigh ratio of toluene is known from the literature and is equal to 1.35·10e−5·cm−1 at 632.8 nm and 25 °C (Brar and Verma 2011)\"*"
   ]
  },
  {
   "cell_type": "code",
   "execution_count": null,
   "id": "9318f88b-1f20-459b-bd6f-b98dddf94f02",
   "metadata": {},
   "outputs": [],
   "source": [
    "from analyse_dls_with_contin.jupyter_analysis_tools.distrib import area, integrate\n",
    "rayleighRatio = 1.35e-5 # in 1/cm at wavelength of 632.8 nm and 25 °C\n",
    "def getConcentration(continResultDir, particleData, bufferData, tolueneData, plotRangeX=None, plot=False):\n",
    "    \"\"\"Implements [equation 8 in Austin 2020](https://link.springer.com/content/pdf/10.1007/s11051-020-04840-8.pdf).\"\"\"\n",
    "    dfDistrib, dfFit, varmap = getContinResults(continResultDir)\n",
    "    theta = varmap['angle']\n",
    "    I_tot, _ = crAtAngle(particleData, theta)\n",
    "    I_dis, _ = crAtAngle(bufferData, theta)\n",
    "    I_tol, _ = crAtAngle(tolueneData, theta)\n",
    "    intensity = (I_tot - I_dis) * rayleighRatio / (I_tol)\n",
    "    wavelen = bufferData[\"Wavelength [nm]\"]\n",
    "    nMedium = bufferData[\"Refractive Index\"]\n",
    "    sigma_sca = np.array([diffScatteringCrossSection(radius, theta, wavelen, nMedium)\n",
    "                          for radius in dfDistrib.radius.values*1e9]).flatten()\n",
    "    concentrationDistrib = dfDistrib.distrib.values * intensity / sigma_sca\n",
    "    concentration = integrate(dfDistrib.radius.values, concentrationDistrib)\n",
    "    if plot:\n",
    "        createFigure(300, 2, quiet=True, tight_layout = {'pad': 0.05});\n",
    "        plt.subplot(2,2,1); plt.grid()\n",
    "        plt.errorbar(dfDistrib.radius,\n",
    "                 dfDistrib.distrib * intensity, yerr=dfDistrib.err*intensity, ecolor='salmon')\n",
    "        plt.title(continResultDir.name)\n",
    "        plt.xlim(plotRangeX)\n",
    "        plt.subplot(2,2,2); plt.grid()\n",
    "        plt.plot(dfDistrib.radius.values, sigma_sca, label=\"Diff. scattering cross section (cm$^2$/sr)\")\n",
    "        plt.xlim(plotRangeX); plt.ylim(0, 1e-11); plt.legend()\n",
    "        plt.subplot(2,1,2); plt.grid()\n",
    "        plt.plot(dfDistrib.radius.values, concentrationDistrib,\n",
    "                 label=r\"concentration in $sr/cm^3$(?)=$\\int${:.3g}\".format(concentration));\n",
    "        plt.legend(); plt.xlim(plotRangeX);\n",
    "    return concentration, theta\n",
    "\n",
    "concentrations = np.array([getConcentration(dn, particleData, bufferData, tolueneData, plotRangeX=sizeRangeM, plot=True)\n",
    "                           for dn in resultDirs])"
   ]
  },
  {
   "cell_type": "code",
   "execution_count": null,
   "id": "8914d5da-380f-4de5-9918-d0e29d49a72f",
   "metadata": {},
   "outputs": [],
   "source": [
    "createFigure(300, 3, quiet=True, tight_layout = {'pad': 0.05});\n",
    "plt.subplot(1,2,1)\n",
    "plt.plot(concentrations[:,1], concentrations[:,0], '.')\n",
    "plt.grid(); plt.ylim(0,30e2)\n",
    "plt.ylabel(r\"Concentration in $1/cm^3$(?)\")\n",
    "plt.xlabel(r\"Scattering Angle $\\Theta$ (degrees)\");\n",
    "plt.subplot(1,2,2)\n",
    "plt.plot(concentrations[:,1], concentrations[:,0], '.')\n",
    "plt.grid(); plt.ylim(0,10e2)\n",
    "plt.ylabel(r\"Concentration in $1/cm^3$(?)\")\n",
    "plt.xlabel(r\"Scattering Angle $\\Theta$ (degrees)\");\n",
    "concentrations.mean(), concentrations.std()"
   ]
  },
  {
   "cell_type": "code",
   "execution_count": null,
   "id": "5d9a92c3-3ab2-4114-b504-deaecf8bfcb3",
   "metadata": {},
   "outputs": [],
   "source": []
  }
 ],
 "metadata": {
  "kernelspec": {
   "display_name": "Python 3",
   "language": "python",
   "name": "python3"
  },
  "language_info": {
   "codemirror_mode": {
    "name": "ipython",
    "version": 3
   },
   "file_extension": ".py",
   "mimetype": "text/x-python",
   "name": "python",
   "nbconvert_exporter": "python",
   "pygments_lexer": "ipython3",
   "version": "3.9.4"
  }
 },
 "nbformat": 4,
 "nbformat_minor": 5
}
